{
 "cells": [
  {
   "cell_type": "markdown",
   "metadata": {},
   "source": []
  },
  {
   "cell_type": "markdown",
   "metadata": {},
   "source": [
    "### Kleine Aufgabe\n",
    "Schreibe ein Programm, das nach einer Zahl fragt. \n",
    "* Falls Zahl gerade, _positiv_ und zwischen 0 und 10, dann `\"Klein Gerade\"`\n",
    "    * sonst `\"groß Gerade\"`, falls positiv\n",
    "    * falls negativ, dann `\"negativ gerade`\"`\n",
    "* Falls Zahl ungerade, dann `\"Ungerade\"`\n",
    "* mach dein Programm mittels `try-except` robust\n"
   ]
  },
  {
   "cell_type": "code",
   "execution_count": 4,
   "metadata": {},
   "outputs": [
    {
     "name": "stdout",
     "output_type": "stream",
     "text": [
      "ungerade\n"
     ]
    }
   ],
   "source": [
    "#Marcel\n",
    "try:\n",
    "\n",
    "    zahl = int(input(\"nenne eine Zahl\"))\n",
    "\n",
    "    if zahl in range(0,11) and zahl %2==0:\n",
    "        print(\"klein Gerade\")\n",
    "\n",
    "    elif zahl >=11 and zahl %2==0:\n",
    "        print(\"groß gerade\")\n",
    "    \n",
    "    elif zahl < 0:\n",
    "        print(\"Negativ\")\n",
    "\n",
    "    else:\n",
    "        print(\"ungerade\")\n",
    "\n",
    "except:\n",
    "    print(\"Scherzkeks\")\n"
   ]
  },
  {
   "cell_type": "code",
   "execution_count": 5,
   "metadata": {},
   "outputs": [
    {
     "name": "stdout",
     "output_type": "stream",
     "text": [
      "5 7 9\n"
     ]
    }
   ],
   "source": [
    "print(*range(5,11,2))"
   ]
  },
  {
   "cell_type": "markdown",
   "metadata": {},
   "source": [
    "### Falls Du schon fertig bist\n",
    "1. Erstelle mit deiner ~~dienstlichen~~ privaten Email einen GitHub Account\n",
    "    ```\n",
    "    www.github.com\n",
    "    ```\n",
    "\n",
    "1. Installiere die Erweiterung \"Live Share\".\n"
   ]
  },
  {
   "cell_type": "markdown",
   "metadata": {},
   "source": [
    "# Datentypen\n",
    "Ich möchte eine Liste erstellen, die zu jeder Zahl in `range` den doppelten Wert enthält:"
   ]
  },
  {
   "cell_type": "code",
   "execution_count": 6,
   "metadata": {},
   "outputs": [
    {
     "name": "stdout",
     "output_type": "stream",
     "text": [
      "<class 'list'>\n",
      "[0, 2, 4, 6, 8]\n"
     ]
    }
   ],
   "source": [
    "meine_liste = [2*i for i in range(5)]\n",
    "print(type(meine_liste),  meine_liste, sep=\"\\n\")"
   ]
  },
  {
   "cell_type": "markdown",
   "metadata": {},
   "source": [
    "Das ist ein Bsp. für eine __List Comprehension__"
   ]
  },
  {
   "cell_type": "markdown",
   "metadata": {},
   "source": [
    "## Slicing"
   ]
  },
  {
   "cell_type": "code",
   "execution_count": 7,
   "metadata": {},
   "outputs": [
    {
     "name": "stdout",
     "output_type": "stream",
     "text": [
      "['P', 'y', 't', 'h', 'o', 'n']\n"
     ]
    },
    {
     "data": {
      "text/plain": [
       "['P', 't', 'o']"
      ]
     },
     "execution_count": 7,
     "metadata": {},
     "output_type": "execute_result"
    }
   ],
   "source": [
    "char_list = list(\"Python\")\n",
    "print(char_list)\n",
    "\n",
    "char_list[:3] #erste drei elemente\n",
    "char_list[::-1] #Rückwärts\n",
    "\n",
    "char_list[-2:] #-2 = Starte am 'zweit-letzten' Element\n",
    "\n",
    "char_list[::2] # in zweier-Schritten"
   ]
  },
  {
   "cell_type": "markdown",
   "metadata": {},
   "source": [
    "## Listen-Methoden"
   ]
  },
  {
   "cell_type": "code",
   "execution_count": 8,
   "metadata": {},
   "outputs": [
    {
     "name": "stdout",
     "output_type": "stream",
     "text": [
      "['Gurke', 'Apfel', 'Zwiebel', 'Majo']\n"
     ]
    },
    {
     "data": {
      "text/plain": [
       "['Gurke', 'Apfel', 'Zwiebel', 'Majo', 'Banane', 'Golf7', 'Erdbeere']"
      ]
     },
     "execution_count": 8,
     "metadata": {},
     "output_type": "execute_result"
    }
   ],
   "source": [
    "fruits = ['Gurke', 'Apfel', 'Zwiebel']\n",
    "\n",
    "# ich möchte `Majo` einfügen\n",
    "fruits.append('Majo')\n",
    "print(fruits)\n",
    "\n",
    "fruits2 = ['Banane', 'Golf7', 'Erdbeere']\n",
    "\n",
    "# ich will fruits2 anhängen\n",
    "fruits.extend(fruits2)\n",
    "fruits"
   ]
  },
  {
   "cell_type": "code",
   "execution_count": 9,
   "metadata": {},
   "outputs": [
    {
     "name": "stdout",
     "output_type": "stream",
     "text": [
      "Methode:\t [1, 2, 3]\n",
      "Methode: \t [1, 2, 3]\n"
     ]
    }
   ],
   "source": [
    "def my_append_als_funktion(eine_liste, neues_element):\n",
    "    eine_liste.append(neues_element)\n",
    "    return None\n",
    "\n",
    "my_list1 = [1,2]\n",
    "my_append_als_funktion(my_list1, 3)\n",
    "print(\"Methode:\\t\", my_list1)\n",
    "\n",
    "my_list2 = [1,2]\n",
    "my_list2.append(3)\n",
    "print(\"Methode: \\t\", my_list2)\n"
   ]
  },
  {
   "cell_type": "markdown",
   "metadata": {},
   "source": [
    "Eine __Methode__, bspw. `.append()` ist eine besondere Art von Funktion. Syntax eines Methodenaufrufs:\n",
    "\n",
    "```python\n",
    "<aufrufendes_objekt>.<name_der_methode>(<optionale_argumente>)\n",
    "\n",
    "# Ein Bsp.:\n",
    "meine_liste.append(3)\n",
    "```\n",
    "\n",
    "Das aufrufende Objekt wird der Methode implizit als erstes Argument überreicht, vgl. `my_append_als_funktion()`."
   ]
  },
  {
   "cell_type": "code",
   "execution_count": 10,
   "metadata": {},
   "outputs": [
    {
     "name": "stdout",
     "output_type": "stream",
     "text": [
      "[1, 2, 3]\n"
     ]
    }
   ],
   "source": [
    "my_list1 = [1,2]\n",
    "my_listZwei = my_list1\n",
    "my_list1.append(3)\n",
    "\n",
    "print(my_listZwei)"
   ]
  },
  {
   "cell_type": "markdown",
   "metadata": {},
   "source": [
    "Bsp. für einen veränderbaren/__mutablen__ Datentyp:"
   ]
  },
  {
   "cell_type": "code",
   "execution_count": 11,
   "metadata": {},
   "outputs": [
    {
     "name": "stdout",
     "output_type": "stream",
     "text": [
      "[1, 'abcd']\n",
      "a\n"
     ]
    }
   ],
   "source": [
    "my_list = [1,2]\n",
    "my_list[1] = \"abcd\"\n",
    "print(my_list)\n",
    "\n",
    "# Bsp. für einen immutable Typ\n",
    "my_tup = (1,2)\n",
    "# my_tup[1] = \"abcd\" #Fehler, da Tupel immutable\n",
    "\n",
    "# Anderes Bsp. für immutablen Typen:\n",
    "my_string = \"abcd\"\n",
    "print(my_string[0]) # Ich kann immutable Typen auslesen\n",
    "# my_string[0] = \"X\" # Fehler, immuatble Typen können nicht geändert werden."
   ]
  },
  {
   "cell_type": "markdown",
   "metadata": {},
   "source": [
    "__Aufgabe:__\n",
    "Wandle `(1,2,3)` in eine Liste um. Das geht auf mindestens zwei verschiedene Weisen."
   ]
  },
  {
   "cell_type": "code",
   "execution_count": 12,
   "metadata": {},
   "outputs": [
    {
     "name": "stdout",
     "output_type": "stream",
     "text": [
      "[1, 2, 3]\n",
      "<class 'list'>\n",
      "[1, 2, 3]\n",
      "<class 'list'>\n"
     ]
    }
   ],
   "source": [
    "my_tup = (1,2,3)\n",
    "my_list1 = list(my_tup) #Typumwandlung, analog int(\"15\")\n",
    "\n",
    "print(my_list1, type(my_list1), sep='\\n')\n",
    "\n",
    "my_list2 = [x for x in my_tup]\n",
    "print(my_list2, type(my_list2), sep='\\n')"
   ]
  },
  {
   "cell_type": "markdown",
   "metadata": {},
   "source": [
    "## List-Comprehensions"
   ]
  },
  {
   "cell_type": "code",
   "execution_count": 13,
   "metadata": {},
   "outputs": [
    {
     "name": "stdout",
     "output_type": "stream",
     "text": [
      "['a', 2, [5, 5, 5]]\n",
      "['a', 2, [5, 5, 5]]\n"
     ]
    }
   ],
   "source": [
    "# for-loop\n",
    "my_list = []\n",
    "my_tup = (\"a\", 2, [5,5,5])\n",
    "for x in my_tup: #for-loop durchläuft Element-weise das Tupel. x ist die Laufvariable\n",
    "    # print(x)\n",
    "    my_list.append(x) #in die Liste wird element-weise der Wert der Laufvariable x eingefügt\n",
    "\n",
    "print(my_list)\n",
    "\n",
    "print( [x for x in my_tup] )\n",
    "\n"
   ]
  },
  {
   "cell_type": "code",
   "execution_count": 14,
   "metadata": {},
   "outputs": [
    {
     "name": "stdout",
     "output_type": "stream",
     "text": [
      "['A', 'B', 'C', 'D']\n"
     ]
    }
   ],
   "source": [
    "my_string = \"abcd\"\n",
    "print( [c.upper()   for c in my_string] )"
   ]
  },
  {
   "cell_type": "markdown",
   "metadata": {},
   "source": [
    "Aufgabe: Erstelle eine Liste mit den ersten 10 Quadratzahlen mittels List Comprehension und `range()`."
   ]
  },
  {
   "cell_type": "code",
   "execution_count": 15,
   "metadata": {},
   "outputs": [
    {
     "name": "stdout",
     "output_type": "stream",
     "text": [
      "[1, 4, 9, 16, 25, 36, 49, 64, 81, 100]\n",
      "[4, 16, 36, 64, 100]\n"
     ]
    }
   ],
   "source": [
    "my_list = [x**2 for x in range (1,11)]\n",
    "print(my_list)\n",
    "\n",
    "my_list_gerade = [x for x in my_list if x%2==0]\n",
    "#durchlaufe my_list und if x gerade, dann (und nur dann) packst du x in my_list_gerade\n",
    "print(my_list_gerade)\n"
   ]
  },
  {
   "cell_type": "markdown",
   "metadata": {},
   "source": [
    "Aufgabe: Sei\n",
    "\n",
    "```python\n",
    "my_list = [1, 4, 9, 16, 25, 36, 49, 64, 81, 100]\n",
    "```\n",
    "\n",
    "Wir möchten nur mit Hilfe eines `for`-loops das Ergebnis der List Comprehension\n",
    "```python\n",
    "[x for x in my_list if x%2==0]\n",
    "``` \n",
    "replizieren. _Hinweis: Antwort umfasst mehrere Codezeilen._\n"
   ]
  },
  {
   "cell_type": "code",
   "execution_count": 16,
   "metadata": {},
   "outputs": [
    {
     "name": "stdout",
     "output_type": "stream",
     "text": [
      "[4, 16, 36, 64, 100]\n"
     ]
    }
   ],
   "source": [
    "liste1 = [1, 4, 9, 16, 25, 36, 49, 64, 81, 100]\n",
    "liste2 = []\n",
    "\n",
    "for x in liste1:\n",
    "    if x % 2 == 0:\n",
    "        liste2.append(x)\n",
    "\n",
    "print(liste2)"
   ]
  },
  {
   "cell_type": "code",
   "execution_count": 17,
   "metadata": {},
   "outputs": [
    {
     "name": "stdout",
     "output_type": "stream",
     "text": [
      "[4, 16, 36, 64, 100]\n"
     ]
    }
   ],
   "source": [
    "my_liste = []\n",
    "for i in range (1,11): #Ich will mit range() arbeiten\n",
    "    x = i**2\n",
    "    if x % 2 == 0:\n",
    "        my_liste.append(x)\n",
    "print(my_liste)\n"
   ]
  },
  {
   "cell_type": "markdown",
   "metadata": {},
   "source": [
    "## Sets: Kurze Intro\n",
    "Sets ahmen Mengen aus der Mathematik nach. \n",
    "$\\{1,2,3,3,3\\} = \\{1,2,3\\}$"
   ]
  },
  {
   "cell_type": "code",
   "execution_count": 18,
   "metadata": {},
   "outputs": [
    {
     "name": "stdout",
     "output_type": "stream",
     "text": [
      "[1, 2, 3]\n"
     ]
    }
   ],
   "source": [
    "#Bsp.: Duplikate aus Liste entfernen\n",
    "my_list = [1,2,3,3,3]\n",
    "my_set = set(my_list) #Typumwandlung in set, um Duplikate zu entfernen\n",
    "print(list(my_set)) #set in Liste mit einzigartigen Elementen rückumwandeln"
   ]
  },
  {
   "cell_type": "markdown",
   "metadata": {},
   "source": [
    "$\\{1,2,3\\}\\cup \\{8,9\\} = \\{1,2,3,8,9\\}$\n",
    "\n",
    "$\\{1,2,3\\}\\cap \\{8,9\\} = \\emptyset$\n",
    "\n",
    "$\\{1,2,3\\}\\backslash\\{3\\} = \\{1,2\\}$\n"
   ]
  },
  {
   "cell_type": "code",
   "execution_count": 19,
   "metadata": {},
   "outputs": [
    {
     "name": "stdout",
     "output_type": "stream",
     "text": [
      "{1, 2, 3, 8, 9}\n",
      "{1, 2, 3}\n"
     ]
    }
   ],
   "source": [
    "set1 = {1,2,3}\n",
    "set2 = {8,9}\n",
    "set3 = {3}\n",
    "\n",
    "def my_union(set1,set2):\n",
    "    ergebnis = set1.copy() # .copy() erstellt ein neues Objekt, das inhaltlich identisch zu set1 ist. Variable `ergebnis` referenziert das neue Objekt, nicht set1. \n",
    "    for element in set2:\n",
    "        ergebnis.add(element)\n",
    "    return ergebnis\n",
    "\n",
    "print(my_union(set1,set2))\n",
    "print(set1)"
   ]
  },
  {
   "cell_type": "code",
   "execution_count": 20,
   "metadata": {},
   "outputs": [
    {
     "name": "stdout",
     "output_type": "stream",
     "text": [
      "{3}\n",
      "set()\n"
     ]
    }
   ],
   "source": [
    "set1 = {1,2,3}\n",
    "set2 = {8,9}\n",
    "set3 = {3}\n",
    "\n",
    "print(set1.intersection(set3))\n",
    "\n",
    "#by Hagen\n",
    "def my_intersection(set1, set2):\n",
    "    result_set = set(element for element in set1 if element in set2)\n",
    "    #wir durchlaufen set1 und packen element nur dann ins neue set, falls element in set2 enthalten ist.\n",
    "    return result_set\n",
    "\n",
    "print(my_intersection(set1, set2))"
   ]
  },
  {
   "cell_type": "code",
   "execution_count": 21,
   "metadata": {},
   "outputs": [
    {
     "data": {
      "text/plain": [
       "[4, 16]"
      ]
     },
     "execution_count": 21,
     "metadata": {},
     "output_type": "execute_result"
    }
   ],
   "source": [
    "[x**2   for x in (1,2,3,4,5)   if x%2==0]"
   ]
  },
  {
   "cell_type": "code",
   "execution_count": 22,
   "metadata": {},
   "outputs": [
    {
     "data": {
      "text/plain": [
       "set()"
      ]
     },
     "execution_count": 22,
     "metadata": {},
     "output_type": "execute_result"
    }
   ],
   "source": [
    "set() #das ist ein sog. Konstruktor-Aufruf. Im konkreten Fall liefert er ein leeres set zurück.\n",
    "# {} ist ein leeres dictionary!"
   ]
  },
  {
   "cell_type": "code",
   "execution_count": 23,
   "metadata": {},
   "outputs": [
    {
     "name": "stdout",
     "output_type": "stream",
     "text": [
      "{1, 2, 100}\n",
      "{1, 2, 100}\n",
      "{1, 2, 100}\n"
     ]
    }
   ],
   "source": [
    "set1 = {1,2, 54,66,100}\n",
    "set2= {54,66}\n",
    "\n",
    "print(set1.difference(set2))\n",
    "print(set1-set2)\n",
    "\n",
    "def my_difference(set1, set2): #mit loop arbeiten\n",
    "    result_set = set(element for element in set1 if element not in set2)\n",
    "    return result_set\n",
    "\n",
    "print(my_difference(set1, set2))\n"
   ]
  },
  {
   "cell_type": "code",
   "execution_count": null,
   "metadata": {},
   "outputs": [],
   "source": []
  },
  {
   "cell_type": "markdown",
   "metadata": {},
   "source": [
    "## Dictionaries\n",
    "Ein __Dictionary__ besteht aus __key-value__ Paaren. Wir veranschaulichen Dictionaries anhand eines Bsp.:\n",
    "\n",
    "Oscars bester Film\n",
    "\n",
    "| key  | value                                  |\n",
    "|------|----------------------------------------|\n",
    "| 2023 | \"Everything, Everywhere, All at Once\"  |\n",
    "| 2022 | \"Coda\"                                 |\n",
    "| 2021 | \"Nomadland\"                            |\n",
    "| 2020 | \"Parasite\"                             |\n",
    "\n",
    "Anbei das zugehörige Dictionary:"
   ]
  },
  {
   "cell_type": "code",
   "execution_count": 28,
   "metadata": {},
   "outputs": [
    {
     "data": {
      "text/plain": [
       "'Everything, Everywhere, All at Once'"
      ]
     },
     "execution_count": 28,
     "metadata": {},
     "output_type": "execute_result"
    }
   ],
   "source": [
    "oscars = {\n",
    "    2023: \"Everything, Everywhere, All at Once\",\n",
    "    2022: \"Coda\",\n",
    "    2021: \"Nomadland\",\n",
    "    2020: \"Parasite\",\n",
    "    (1,2) : \"Hoho\",\n",
    "    'toller_key': \"Booaaah\"\n",
    "}\n",
    "\n",
    "oscars[2023]"
   ]
  },
  {
   "cell_type": "code",
   "execution_count": 25,
   "metadata": {},
   "outputs": [
    {
     "name": "stdout",
     "output_type": "stream",
     "text": [
      "dict_keys([2023, 2022, 2021, 2020, (1, 2), 'toller_key'])\n",
      "dict_values(['Everything, Everywhere, All at Once', 'Coda', 'Nomadland', 'Parasite', 'Hoho', 'Booaaah'])\n",
      "dict_items([(2023, 'Everything, Everywhere, All at Once'), (2022, 'Coda'), (2021, 'Nomadland'), (2020, 'Parasite'), ((1, 2), 'Hoho'), ('toller_key', 'Booaaah')])\n"
     ]
    }
   ],
   "source": [
    "# Ein paar Dict-Methoden\n",
    "print(\n",
    "    oscars.keys(),\n",
    "    oscars.values(),\n",
    "    oscars.items(),\n",
    "    sep='\\n'\n",
    ")"
   ]
  },
  {
   "cell_type": "markdown",
   "metadata": {},
   "source": [
    "* Der Schlüssel des Dictionaries muss sowohl eindeutig (unique) als auch immutabel sein.\n",
    "    * Mehrfachvergabe eines Schlüssels/keys bewirkt keinen Fehler, sondern speichert das letzte value."
   ]
  },
  {
   "cell_type": "code",
   "execution_count": 26,
   "metadata": {},
   "outputs": [
    {
     "data": {
      "text/plain": [
       "3"
      ]
     },
     "execution_count": 26,
     "metadata": {},
     "output_type": "execute_result"
    }
   ],
   "source": [
    "wetter = {\n",
    "    'city': \"Wolfsburg\",\n",
    "    'temp_max': [7,5,3,-8,-3] #Temperaturen der letzten 5 Tage\n",
    "}\n",
    "\n",
    "wetter['temp_max'][2]\n"
   ]
  },
  {
   "cell_type": "code",
   "execution_count": 32,
   "metadata": {},
   "outputs": [
    {
     "name": "stdout",
     "output_type": "stream",
     "text": [
      "[1, 2, 3, 4, 5]\n"
     ]
    }
   ],
   "source": [
    "# Aufgabe 8\n",
    "my_list = [1, 2, 2, 3, 3, 4, 4, 5]\n",
    "my_set = set(my_list)\n",
    "my_unique_list = list(my_set)\n",
    "print(my_unique_list)\n",
    "\n"
   ]
  },
  {
   "cell_type": "markdown",
   "metadata": {},
   "source": [
    "# Ein und Ausgabe\n",
    "__Aufgabe__\n",
    "* Baut einen kleinen Taschenrechner\n",
    "* Es werden zwei Zahlen abgefragt\n",
    "* dann wird gefragt, ob addiert, subtrahiert, dividiert, multipliziert oder potenziert werden soll.\n",
    "* Das Ergebnis der Berechnung wird ausgegeben\n",
    "* Bonus: Fehlrown robust mittels `try except` abfangen."
   ]
  },
  {
   "cell_type": "code",
   "execution_count": 89,
   "metadata": {},
   "outputs": [
    {
     "name": "stdout",
     "output_type": "stream",
     "text": [
      " 3.00\n"
     ]
    }
   ],
   "source": [
    "import math\n",
    "ergebnis =\"nichts\"\n",
    "\n",
    "try:\n",
    "    zahl1 = float(input(\"Gebe die erste Zahl an: \"))\n",
    "    zahl2 = float(input(\"Gebe die zweite Zahl an: \"))\n",
    "    rechnung = input(\" + , - , / , * , log\")\n",
    "\n",
    "    if (rechnung == \"+\") or (rechnung == \"plus\"):\n",
    "        ergebnis = zahl1 + zahl2\n",
    "    elif rechnung == \"-\" or rechnung ==\"minus\":\n",
    "        ergebnis = zahl - zahl2\n",
    "    elif rechnung == \"/\" or rechnung ==\"geteilt\":\n",
    "        if zahl2 != 0.0:\n",
    "            ergebnis = zahl1 / zahl2\n",
    "    elif rechnung == \"*\" or rechnung ==\"mal\":\n",
    "        ergebnis = zahl1 * zahl2\n",
    "    elif rechnung==\"log\" or rechnung==\"l\":\n",
    "        ergebnis = math.log(zahl1, zahl2)\n",
    "    print(f\"{ergebnis: .2f}\") \n",
    "except: \n",
    "    print(\"Fehlermeldung!\")"
   ]
  },
  {
   "cell_type": "markdown",
   "metadata": {},
   "source": [
    "### Trutyh and Falsy Interpretation von nicht-Booleans"
   ]
  },
  {
   "cell_type": "code",
   "execution_count": 54,
   "metadata": {},
   "outputs": [
    {
     "name": "stdout",
     "output_type": "stream",
     "text": [
      "else-Zweig\n"
     ]
    }
   ],
   "source": [
    "if []:\n",
    "    print(\"if-Zweig\")\n",
    "else:\n",
    "    print(\"else-Zweig\")\n",
    "\n"
   ]
  },
  {
   "cell_type": "markdown",
   "metadata": {},
   "source": [
    "Python, interpretiert alle Strings als booleans:\n",
    "* Strings\n",
    "    * Der Leerstring `\"\"`` wird als __falsy__ interpretiert\n",
    "    * Alle anderen Strings werden als __truthy__ interpretiert\n",
    "* Integers: `0` (falsy) vs alle anderen integers (truthy)\n",
    "* Listen: `[]` ist der einzige falsy\n"
   ]
  },
  {
   "cell_type": "markdown",
   "metadata": {},
   "source": [
    "# Mathematische Operationen"
   ]
  },
  {
   "cell_type": "code",
   "execution_count": 67,
   "metadata": {},
   "outputs": [
    {
     "data": {
      "text/plain": [
       "2.0"
      ]
     },
     "execution_count": 67,
     "metadata": {},
     "output_type": "execute_result"
    }
   ],
   "source": [
    "# Rundet Ganzzahldivision auf?\n",
    "2.9 // 1 #nein"
   ]
  },
  {
   "cell_type": "code",
   "execution_count": 82,
   "metadata": {},
   "outputs": [
    {
     "data": {
      "text/plain": [
       "4"
      ]
     },
     "execution_count": 82,
     "metadata": {},
     "output_type": "execute_result"
    }
   ],
   "source": [
    "import math\n",
    "math.ceil(3.000001)"
   ]
  },
  {
   "cell_type": "markdown",
   "metadata": {},
   "source": [
    "* `import math` __importiert__ die __Bibliothek__/__Package__/__Library__ mit dem Namen `math` ein.\n",
    "* Wir können auf die Inhalte von `math` mittels Punktnotation zugreifen, bspw. `math.ceil()`.\n",
    "    * Python würde `ceil()` nicht direkt verstehen.\n"
   ]
  },
  {
   "cell_type": "code",
   "execution_count": 86,
   "metadata": {},
   "outputs": [
    {
     "data": {
      "text/plain": [
       "' 3.00'"
      ]
     },
     "execution_count": 86,
     "metadata": {},
     "output_type": "execute_result"
    }
   ],
   "source": [
    "f'{math.log(1000, 10): .2f}'"
   ]
  },
  {
   "cell_type": "markdown",
   "metadata": {},
   "source": [
    "### Zinses-Zins Rechner:\n",
    "Ich möchte, dass 100 Euro Startkapital bei 10% Zinsen sich wie folgt entwickeln:\n",
    "* Startwert = 100\n",
    "* Endwert(nach 1. Jahr) = 110.0\n",
    "* Endwert(nach 2. Jahr) = 121.0\n",
    "* Endwert(nach 3. Jahr) = 133.1\n",
    "\n",
    "Aufgabe: Baue einen Zinses-Zins Rechner, der nach dem Startkapital, Prozentsatz und Laufzeit (in Jahren) fragt.\n",
    "\n"
   ]
  },
  {
   "cell_type": "code",
   "execution_count": 91,
   "metadata": {},
   "outputs": [
    {
     "name": "stdout",
     "output_type": "stream",
     "text": [
      " 133.10\n"
     ]
    }
   ],
   "source": [
    "# Zinses-Zins Rechner\n",
    "# Bsp.: 10%:  100, 110, 121, 133.1, usw.\n",
    "\n",
    "Hauptsumme = float(input(\"Gib dein Kapital ein\"))\n",
    "Zinssatz = float(input(\"welchen Zinssatz erhälst du von der Bank?\"))\n",
    "Anlagedauer =float(input(\"Über wie viele Jahre legst du dein Geld an\"))\n",
    "\n",
    "#Dezimal\n",
    "zinssatz_dezimal = Zinssatz / 100 \n",
    "\n",
    "endbetrag = Hauptsumme * (1 + zinssatz_dezimal) ** Anlagedauer\n",
    "\n",
    "print(f\"{endbetrag: .2f}\")\n"
   ]
  },
  {
   "cell_type": "code",
   "execution_count": 93,
   "metadata": {},
   "outputs": [
    {
     "name": "stdout",
     "output_type": "stream",
     "text": [
      "Nach 1 Jahr/e hast du  102.00€\n",
      "Nach 2 Jahr/e hast du  104.04€\n",
      "Du hast 100.0€ angelegt und hast nach 2 Jahren dann  104.04€\n"
     ]
    }
   ],
   "source": [
    "startkapital = float(input(\"Wie viel geld in euro willst du anlegen?: \"))\n",
    "zinssatz = (100 + float(input(\"Welchen Jahreszins gibt dir die bank?(ohne %): \"))) / 100\n",
    "dauer = int(input(\"Wie viele Jahre willst du dein geld anlegen?: \"))\n",
    "kontostand = startkapital\n",
    "\n",
    "for i in range(1, dauer + 1):\n",
    "    kontostand *= zinssatz # Da Kontostand stetig wächst, wird Zinses-Zins Effekt mitberücksichtigt\n",
    "    print(f\"Nach {i} Jahr/e hast du {kontostand: .2f}€\")\n",
    "\n",
    "print(f\"Du hast {startkapital}€ angelegt und hast nach {dauer} Jahren dann {kontostand: .2f}€\")\n"
   ]
  },
  {
   "cell_type": "code",
   "execution_count": 98,
   "metadata": {},
   "outputs": [
    {
     "data": {
      "text/plain": [
       "True"
      ]
     },
     "execution_count": 98,
     "metadata": {},
     "output_type": "execute_result"
    }
   ],
   "source": [
    "'gurke'.capitalize() in fruits"
   ]
  },
  {
   "cell_type": "code",
   "execution_count": 97,
   "metadata": {},
   "outputs": [
    {
     "data": {
      "text/plain": [
       "'Abc'"
      ]
     },
     "execution_count": 97,
     "metadata": {},
     "output_type": "execute_result"
    }
   ],
   "source": [
    "passwort_gespeichert = \"Passwort123\"\n",
    "passwort_eingegeben = input(\"Gib das Passwort ein\")\n",
    "\n",
    "passwort_eingegeben == passwort_gespeichert\n"
   ]
  },
  {
   "cell_type": "code",
   "execution_count": 105,
   "metadata": {},
   "outputs": [
    {
     "data": {
      "text/plain": [
       "21321213"
      ]
     },
     "execution_count": 105,
     "metadata": {},
     "output_type": "execute_result"
    }
   ],
   "source": [
    "# Hagens Aufgabe als Einzeiler\n",
    "print(input(\"Gespeichertes Passwort\")==input(\"nenne ein Passwort\"))\n",
    "\n",
    "\n"
   ]
  },
  {
   "cell_type": "markdown",
   "metadata": {},
   "source": [
    "### Aufgabe Lichtschalter:\n",
    "* `input()` erscheint und erwartet beliebige row. \n",
    "* Sobald eine beliebige row getätigt wurde, wechselt der Lichtschalter seinen Zustand.\n",
    "* Gib den aktuellen Zustand stets per `print()` aus."
   ]
  },
  {
   "cell_type": "code",
   "execution_count": 119,
   "metadata": {},
   "outputs": [
    {
     "name": "stdout",
     "output_type": "stream",
     "text": [
      "Leuchtet nicht\n",
      "Ungültige Eingabe. NUR q oder e du Kek!.\n",
      "Leuchtet nicht\n",
      "Leuchtet\n",
      "Ungültige Eingabe. NUR q oder e du Kek!.\n",
      "Leuchtet\n",
      "Ungültige Eingabe. NUR q oder e du Kek!.\n",
      "Leuchtet\n",
      "Leuchtet nicht\n",
      "Programm wird beendet. Ciaaaaaa!\n"
     ]
    }
   ],
   "source": [
    "#⭐Elias\n",
    "licht_an = False\n",
    "\n",
    "while True:\n",
    "    print(\"Leuchtet\" if licht_an else \"Leuchtet nicht\")\n",
    "\n",
    "    row = input(\"Drücke 'e', um Licht anzuschalten. Drücke 'q', um zu beenden: \")\n",
    "\n",
    "    if row == 'e' or row=='':\n",
    "        licht_an = not licht_an #Zustandswechsel\n",
    "    elif row == 'q':\n",
    "        print(\"Programm wird beendet. Ciaaaaaa!\")\n",
    "        break\n",
    "    else:\n",
    "        print(\"Ungültige row. NUR q oder e du Kek!.\")\n"
   ]
  },
  {
   "cell_type": "code",
   "execution_count": 120,
   "metadata": {},
   "outputs": [
    {
     "name": "stdout",
     "output_type": "stream",
     "text": [
      "True\n",
      "True\n",
      "True\n"
     ]
    }
   ],
   "source": [
    "for _ in range(3):\n",
    "    x = input()\n",
    "    print(x=='')"
   ]
  },
  {
   "cell_type": "code",
   "execution_count": 133,
   "metadata": {},
   "outputs": [
    {
     "data": {
      "text/plain": [
       "True"
      ]
     },
     "execution_count": 133,
     "metadata": {},
     "output_type": "execute_result"
    }
   ],
   "source": [
    "# Aufgabe 8: Bewertung\n",
    "noten_dict = {\n",
    "    1: \"sehr gut\",\n",
    "    2: \"gut\",\n",
    "    3: \"befriedigend\",\n",
    "    4: \"ausreichend\",\n",
    "    5: \"nicht ausreichend\"\n",
    "}\n",
    "\n",
    "noten_dict.get(0, \"key not found\")"
   ]
  },
  {
   "cell_type": "code",
   "execution_count": 147,
   "metadata": {},
   "outputs": [
    {
     "name": "stdout",
     "output_type": "stream",
     "text": [
      "key not found.\n"
     ]
    }
   ],
   "source": [
    "zahl = int(input(\"Note als Zahl\"))\n",
    "print(f\"{noten_dict.get(zahl, 'key not found.')}\")"
   ]
  },
  {
   "cell_type": "markdown",
   "metadata": {},
   "source": [
    "Phase 1: Datenerfassung\n",
    "* Ein Input ist\n",
    "    * entweder `\"name, alter, email\"` \n",
    "    * oder `\"fertig\"`\n",
    "\n",
    "Phase 2: Ausgabe\n",
    "* Leute, die >=30 Jahre alt sind, ausgeben.\n",
    "\n"
   ]
  },
  {
   "cell_type": "code",
   "execution_count": null,
   "metadata": {},
   "outputs": [],
   "source": [
    "# Phase 1\n",
    "\n",
    "\n",
    "# Phase 2\n",
    "\n"
   ]
  },
  {
   "cell_type": "markdown",
   "metadata": {},
   "source": [
    "__aktuelle Challenge__: \n",
    "Extrahiere aus `rows` mit Hilfe einer List Comprehension nur diejenigen Personen, die $\\ge 30$ Jahre alt sind."
   ]
  },
  {
   "cell_type": "code",
   "execution_count": 28,
   "metadata": {},
   "outputs": [
    {
     "name": "stdout",
     "output_type": "stream",
     "text": [
      "[['a', 66], ['b', 55], ['c', 12]] \t (das sind alle rows)\n",
      "[['a', 66], ['b', 55]] \t (das sind die gefilterten rows)\n",
      "['b', 55]\n",
      "['a', 66]\n",
      "\t gefiltert sortiert\n"
     ]
    }
   ],
   "source": [
    "rows = []\n",
    "row = \"\"\n",
    "\n",
    "while \"fertig\" not in row:\n",
    "\n",
    "    row = input(\"Name,Alter\").split(\",\")\n",
    "    if \"fertig\" not in row and len(row)==2:\n",
    "        row[1] = int(row[1])\n",
    "        rows.append(row)\n",
    "\n",
    "# Extrahiere die Ü30👩‍🦲\n",
    "print(rows, \"\\t (das sind alle rows)\")\n",
    "rows_filtered = [row       for row in rows     if row[1]>=30]\n",
    "print(rows_filtered, \"\\t (das sind die gefilterten rows)\")\n",
    "\n",
    "rows_filtered.sort(key= (lambda lst: lst[1]), reverse=True)\n",
    "print(*rows_filtered, \"\\t gefiltert sortiert\", sep=\"\\n\")\n"
   ]
  },
  {
   "cell_type": "code",
   "execution_count": 26,
   "metadata": {},
   "outputs": [
    {
     "name": "stdout",
     "output_type": "stream",
     "text": [
      "['name1', 'alter1']\n",
      "['name2', 'alter2']\n",
      "['name3', 'alter3']\n"
     ]
    }
   ],
   "source": [
    "my_list = [ [\"name1\", \"alter1\"], [\"name2\", \"alter2\"], [\"name3\", \"alter3\"]]\n",
    "print(*my_list, sep=\"\\n\")"
   ]
  },
  {
   "cell_type": "markdown",
   "metadata": {},
   "source": [
    "__Aufgaben__:\n",
    "1. Quadratwurzel von 64 (mit Bordmitteln)\n",
    "1. Funktion, die Quadratwurzel von x ausgibt(mit Bordmitteln)\n",
    " "
   ]
  },
  {
   "cell_type": "code",
   "execution_count": 1,
   "metadata": {},
   "outputs": [
    {
     "data": {
      "text/plain": [
       "5.0"
      ]
     },
     "execution_count": 1,
     "metadata": {},
     "output_type": "execute_result"
    }
   ],
   "source": [
    "# 1.\n",
    "64**0.5\n",
    "# 2.\n",
    "def wurzel(zahl):\n",
    "    return zahl**0.5\n",
    "\n",
    "wurzel(25)"
   ]
  },
  {
   "cell_type": "code",
   "execution_count": 24,
   "metadata": {},
   "outputs": [
    {
     "name": "stdout",
     "output_type": "stream",
     "text": [
      " 2\n"
     ]
    },
    {
     "data": {
      "text/plain": [
       "2.0"
      ]
     },
     "execution_count": 24,
     "metadata": {},
     "output_type": "execute_result"
    }
   ],
   "source": [
    "import math\n",
    "\n",
    "# Rundet .f? \n",
    "print( f\"{1.6: .0f}\" )\n",
    "\n",
    "# alternative: round Funktion\n",
    "round(1.53456, 0)"
   ]
  },
  {
   "cell_type": "code",
   "execution_count": 26,
   "metadata": {},
   "outputs": [
    {
     "name": "stdout",
     "output_type": "stream",
     "text": [
      "9\n"
     ]
    }
   ],
   "source": [
    "eingabe1 = int(input(\"Gib eine Zahl ein: \"))\n",
    "eingabe2 = int(input(\"Gib noch eine Zahl ein: \"))\n",
    "\n",
    "if eingabe1 >= eingabe2:\n",
    "    print(eingabe1)\n",
    "else:\n",
    "    print(eingabe2)\n"
   ]
  },
  {
   "cell_type": "code",
   "execution_count": 36,
   "metadata": {},
   "outputs": [
    {
     "data": {
      "text/plain": [
       "'mit Rest'"
      ]
     },
     "execution_count": 36,
     "metadata": {},
     "output_type": "execute_result"
    }
   ],
   "source": [
    "\"Restlos\" if (int(input(\"zahl1\")) % int(input(\"zahl2\")) == 0) else \"mit Rest\"\n"
   ]
  },
  {
   "cell_type": "markdown",
   "metadata": {},
   "source": [
    "* Ab 100€: 10% Rabatt\n",
    "* Ab 150€: 20% Rabatt\n",
    "\n",
    "Bitte als Funktion, die in Abhängigkeit vom Einkaufswert den Rabatt (den gesparten Betrag) zurückliefert.\n"
   ]
  },
  {
   "cell_type": "code",
   "execution_count": 39,
   "metadata": {},
   "outputs": [
    {
     "data": {
      "text/plain": [
       "10.1"
      ]
     },
     "execution_count": 39,
     "metadata": {},
     "output_type": "execute_result"
    }
   ],
   "source": [
    "einkaufswert = int(input(\"Was hasz bezahlt\"))\n",
    "\n",
    "def rabatt(einkaufswert):\n",
    "    rabatt = 0\n",
    "    if einkaufswert >= 150:\n",
    "        rabatt = einkaufswert * 0.2\n",
    "    # wir machen nur dann weiter, wenn einkaufswert <150\n",
    "    elif einkaufswert >= 100:\n",
    "        rabatt = einkaufswert * 0.1\n",
    "    else:\n",
    "        rabatt = 0\n",
    "    return round(rabatt,2)\n",
    "\n",
    "rabatt(einkaufswert)\n"
   ]
  },
  {
   "cell_type": "code",
   "execution_count": null,
   "metadata": {},
   "outputs": [],
   "source": []
  },
  {
   "cell_type": "code",
   "execution_count": null,
   "metadata": {},
   "outputs": [],
   "source": []
  }
 ],
 "metadata": {
  "kernelspec": {
   "display_name": "Python 3",
   "language": "python",
   "name": "python3"
  },
  "language_info": {
   "codemirror_mode": {
    "name": "ipython",
    "version": 3
   },
   "file_extension": ".py",
   "mimetype": "text/x-python",
   "name": "python",
   "nbconvert_exporter": "python",
   "pygments_lexer": "ipython3",
   "version": "3.11.7"
  }
 },
 "nbformat": 4,
 "nbformat_minor": 2
}
