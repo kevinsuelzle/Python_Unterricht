{
 "cells": [
  {
   "cell_type": "markdown",
   "metadata": {},
   "source": [
    "# 8. Analysis II - Python Beispiele"
   ]
  },
  {
   "cell_type": "markdown",
   "metadata": {},
   "source": [
    "Wir implementieren\n",
    "\n",
    "$\\mathbb{Z}\\rightarrow\\mathbb{Q}$\n",
    "\n",
    "$x \\mapsto \\frac{1}{x}$\n",
    "\n",
    "in Python:"
   ]
  },
  {
   "cell_type": "code",
   "execution_count": 2,
   "metadata": {},
   "outputs": [
    {
     "data": {
      "text/plain": [
       "-0.3333333333333333"
      ]
     },
     "execution_count": 2,
     "metadata": {},
     "output_type": "execute_result"
    }
   ],
   "source": [
    "def meine_funktion(x: int) -> float:\n",
    "    return 1/x\n",
    "\n",
    "meine_funktion(-3)\n"
   ]
  },
  {
   "cell_type": "markdown",
   "metadata": {},
   "source": [
    "Seite 92: Ich möchte in Python folgende Abbildung definieren:\n",
    "* $f(1)=B$\n",
    "* $f(2)=D$\n",
    "* $f(3)=D$\n",
    "* $\\forall x\\in \\mathbb{N}, x\\notin \\{1,2,3\\}: f(x)=\\emptyset$\n",
    "\n",
    "Dictionaries sind hierfür perfekt geeignet!"
   ]
  },
  {
   "cell_type": "code",
   "execution_count": 3,
   "metadata": {},
   "outputs": [
    {
     "data": {
      "text/plain": [
       "'Wert nicht vorhanden'"
      ]
     },
     "execution_count": 3,
     "metadata": {},
     "output_type": "execute_result"
    }
   ],
   "source": [
    "f = {\n",
    "    1: \"B\",\n",
    "    2: \"D\",\n",
    "    3: \"D\"\n",
    "}\n",
    "\n",
    "f.get(33, \"Wert nicht vorhanden\")"
   ]
  },
  {
   "cell_type": "markdown",
   "metadata": {},
   "source": [
    "__Aufgabe:__ Implementiere die Abbildung auf S. 93."
   ]
  },
  {
   "cell_type": "code",
   "execution_count": 4,
   "metadata": {},
   "outputs": [],
   "source": [
    "def f(x:float)->float:\n",
    "    return 3*x+2"
   ]
  },
  {
   "cell_type": "code",
   "execution_count": 5,
   "metadata": {},
   "outputs": [
    {
     "data": {
      "text/plain": [
       "25000.0"
      ]
     },
     "execution_count": 5,
     "metadata": {},
     "output_type": "execute_result"
    }
   ],
   "source": [
    "2.5E4"
   ]
  },
  {
   "cell_type": "markdown",
   "metadata": {},
   "source": [
    "# Variablen & Datentypen\n",
    "Datentyp = Menge, bspw.\n",
    "* `int` = $\\mathbb{Z}$\n",
    "* `string` = Die Menge aller Zeichenketten\n",
    "* `bool` $:=\\{$`True`,`False`$\\}$\n",
    "\n",
    "Mit Hilfe von `type()` können wir den Typ eines Objektes erfragen:"
   ]
  },
  {
   "cell_type": "code",
   "execution_count": 6,
   "metadata": {},
   "outputs": [
    {
     "name": "stdout",
     "output_type": "stream",
     "text": [
      "<class 'bool'>\n",
      "<class 'int'>\n",
      "<class 'str'>\n"
     ]
    }
   ],
   "source": [
    "print(type(True))\n",
    "\n",
    "x = 5\n",
    "print(type(x))\n",
    "\n",
    "print(type(\"Python\"))"
   ]
  },
  {
   "cell_type": "markdown",
   "metadata": {},
   "source": [
    "Der Typ einer Variablen kann sich ändern, je nachdem welchen Typ das von der Variable referezierte Objekt hat:"
   ]
  },
  {
   "cell_type": "code",
   "execution_count": 7,
   "metadata": {},
   "outputs": [
    {
     "name": "stdout",
     "output_type": "stream",
     "text": [
      "<class 'int'>\n",
      "<class 'str'>\n"
     ]
    }
   ],
   "source": [
    "x = 5\n",
    "print(type(x))\n",
    "\n",
    "x = \"abc\"\n",
    "print(type(x))"
   ]
  },
  {
   "cell_type": "markdown",
   "metadata": {},
   "source": [
    "__Aufgabe__: \n",
    "* anzahl_chips kosten 1.2€ pro Tüte\n",
    "* anzahl_eiscreme kostet 4€ pro Packung\n",
    "* Ihr habt 20€ bei euch\n",
    "\n",
    "Schreibe ein kleines Programm, welches die Anzahl anzahl_chipstüten und Packungen anzahl_eiscreme abfragt (verwende `input()`). Das Programm soll ausgeben:\n",
    "* `\"Guten Appetit!\"` oder\n",
    "* `\"Dein Geld reicht leider nicht aus.\"`\n"
   ]
  },
  {
   "cell_type": "code",
   "execution_count": 8,
   "metadata": {},
   "outputs": [
    {
     "name": "stdout",
     "output_type": "stream",
     "text": [
      "Guten Appetit!\n"
     ]
    }
   ],
   "source": [
    "# TOM\n",
    "anzahl_chips = int(input(\"Wie viel Tüten Chips möchtest du haben?(1,20€ pro Tüte)\"))\n",
    "# int() wandelt den Typ einer String-Zahl in Integer um\n",
    "anzahl_eiscreme = int(input(\"Wie viel Eiscreme Pakckungen möchtest du haben?(4€ pro Packung)\"))\n",
    "\n",
    "chips_kosten = anzahl_chips * 1.2\n",
    "eiscreme_kosten = anzahl_eiscreme * 4\n",
    "\n",
    "if (chips_kosten + eiscreme_kosten) > 20:\n",
    "    print(\"Dein Geld reicht nicht!\")\n",
    "\n",
    "else: print(\"Guten Appetit!\")"
   ]
  },
  {
   "cell_type": "code",
   "execution_count": 9,
   "metadata": {},
   "outputs": [
    {
     "name": "stdout",
     "output_type": "stream",
     "text": [
      "Dein Geld reicht nicht aus\n"
     ]
    }
   ],
   "source": [
    "price_chips = 1.20\n",
    "price_eis = 4.00\n",
    "budget = 20.00\n",
    "amount_chips = int(input(\"Wie viele Chipstüten möchtest du haben?\"))\n",
    "amount_eis = int(input(\"Wie viele Packungen Eiscreme möchtest du haben?\"))\n",
    "\n",
    "order = (amount_chips * price_chips) + (amount_eis * price_eis)\n",
    "enough_budget = budget - order\n",
    "\n",
    "if enough_budget < 0:\n",
    "    print(f\"Dein Geld reicht nicht aus\")\n",
    "else:\n",
    "    print(f\"Du hast genug Geld für {amount_chips} Tüten Chips und {amount_eis} Packungen Eiscreme. Guten Appetit!\")\n",
    "    print(f\"Dein Restgeld beträgt {enough_budget: .2f}€.\")"
   ]
  },
  {
   "cell_type": "markdown",
   "metadata": {},
   "source": [
    "__Aufgabe__: Du wirst nach einer Zahl gefragt. Das Programm soll eine der folgenden Auswertungen produzieren:\n",
    "* \"Zahl ist natürlich und gerade\"\n",
    "* \"Zahl ist negativ und gerade\"\n",
    "* \"Zahl ist ungerade\"\n",
    "* _Zahl ist keine ganze Zahl_ $\\mathbb{Z}$\n",
    "* Bonus: \"inkorrekte Eingabe\" (_Hint:_ Recherchiere `try except`)\n",
    "\n",
    "\n",
    "![](R_zerteilt.png)"
   ]
  },
  {
   "cell_type": "code",
   "execution_count": 10,
   "metadata": {},
   "outputs": [
    {
     "name": "stdout",
     "output_type": "stream",
     "text": [
      "Du hast keine Zahl eingegeben🤪\n"
     ]
    }
   ],
   "source": [
    "# Marc👍\n",
    "try:\n",
    "    zahl = float(input(\"Gebe eine Zahl ein\"))\n",
    "    if zahl %1 ==0: #ist ganze Zahl\n",
    "        if zahl%2==0: #ist gerade ganze Zahl\n",
    "            if zahl >0: #ganze gerade Zahl ist positiv\n",
    "                print(\"die Zahl ist Natürlich  und gerade\")\n",
    "            elif zahl==0:\n",
    "                print(\"Null ist weder positiv noch negativ🤓\")\n",
    "            else: #ganze gerade Zahl ist negativ\n",
    "                print(\"die Zahl ist negativ und Gerade\")\n",
    "        else:\n",
    "            print(\"die Zahl ist nicht gerade\")\n",
    "    else: #ist nicht-ganze Zahl\n",
    "        print(f\"{zahl} ist keine ganze Zahl\")\n",
    "except: #Falls Programm irgendwo im try-Black crashed\n",
    "    print(\"Du hast keine Zahl eingegeben🤪\")"
   ]
  },
  {
   "cell_type": "code",
   "execution_count": 11,
   "metadata": {},
   "outputs": [
    {
     "ename": "ValueError",
     "evalue": "could not convert string to float: ''",
     "output_type": "error",
     "traceback": [
      "\u001b[1;31m---------------------------------------------------------------------------\u001b[0m",
      "\u001b[1;31mValueError\u001b[0m                                Traceback (most recent call last)",
      "\u001b[1;32mc:\\Users\\David\\Desktop\\F73_Python\\_unterricht\\KW04_Python2.ipynb Cell 18\u001b[0m line \u001b[0;36m2\n\u001b[0;32m      <a href='vscode-notebook-cell:/c%3A/Users/David/Desktop/F73_Python/_unterricht/KW04_Python2.ipynb#X23sZmlsZQ%3D%3D?line=0'>1</a>\u001b[0m \u001b[39m# Kosta👍\u001b[39;00m\n\u001b[1;32m----> <a href='vscode-notebook-cell:/c%3A/Users/David/Desktop/F73_Python/_unterricht/KW04_Python2.ipynb#X23sZmlsZQ%3D%3D?line=1'>2</a>\u001b[0m x \u001b[39m=\u001b[39m \u001b[39mfloat\u001b[39;49m(\u001b[39minput\u001b[39;49m(\u001b[39m\"\u001b[39;49m\u001b[39mGib mir eine beliebige Zahl\u001b[39;49m\u001b[39m\"\u001b[39;49m))\n\u001b[0;32m      <a href='vscode-notebook-cell:/c%3A/Users/David/Desktop/F73_Python/_unterricht/KW04_Python2.ipynb#X23sZmlsZQ%3D%3D?line=3'>4</a>\u001b[0m \u001b[39mif\u001b[39;00m x \u001b[39m%\u001b[39m \u001b[39m1\u001b[39m \u001b[39m==\u001b[39m \u001b[39m0\u001b[39m:                                                  \u001b[39m#Ganze Zahl\u001b[39;00m\n\u001b[0;32m      <a href='vscode-notebook-cell:/c%3A/Users/David/Desktop/F73_Python/_unterricht/KW04_Python2.ipynb#X23sZmlsZQ%3D%3D?line=4'>5</a>\u001b[0m     x \u001b[39m=\u001b[39m \u001b[39mint\u001b[39m(x)\n",
      "\u001b[1;31mValueError\u001b[0m: could not convert string to float: ''"
     ]
    }
   ],
   "source": [
    "# Kosta👍\n",
    "x = float(input(\"Gib mir eine beliebige Zahl\"))\n",
    "\n",
    "if x % 1 == 0:                                                  #Ganze Zahl\n",
    "    x = int(x)\n",
    "    if x % 2 == 0:                                              #Gerade Zahl\n",
    "        if x > 0:                                               #Positive Zahl\n",
    "            print(f\"{x} ist eine Ganze positive und gerade Zahl\")\n",
    "        elif x == 0:                                            #Ausnahme Null\n",
    "            print(f\"{x} ist weder Postiv noch negativ\")   \n",
    "        else:                                                   #Negative Zahl\n",
    "            print(f\"{x} ist eine Ganze negative und gerade Zahl\")\n",
    "    else:                                                       #Ungerade Zahl    \n",
    "        if x > 0:                                               #Positive Zahl\n",
    "            print(f\"{x} ist eine Ganze positive ungerade Zahl\")\n",
    "        else:                                                   #Negative Zahl\n",
    "            print(f\"{x} ist eine Ganze negative ungerade Zahl\")\n",
    "else:                                                           #Keine Ganze Zahl\n",
    "    print(f\"{x} ist keine Ganze Zahl\")\n"
   ]
  },
  {
   "cell_type": "code",
   "execution_count": null,
   "metadata": {},
   "outputs": [
    {
     "name": "stdout",
     "output_type": "stream",
     "text": [
      "Alles gut.\n"
     ]
    }
   ],
   "source": [
    "try:\n",
    "    float(5.5)\n",
    "    print(\"Alles gut.\")\n",
    "except:\n",
    "    print(\"Fehler\")"
   ]
  },
  {
   "cell_type": "markdown",
   "metadata": {},
   "source": [
    "## Weitere Typen"
   ]
  },
  {
   "cell_type": "code",
   "execution_count": null,
   "metadata": {},
   "outputs": [
    {
     "data": {
      "text/plain": [
       "'ABCD'"
      ]
     },
     "execution_count": 81,
     "metadata": {},
     "output_type": "execute_result"
    }
   ],
   "source": [
    "\"abcd\".upper() "
   ]
  },
  {
   "cell_type": "markdown",
   "metadata": {},
   "source": [
    "* Das hier ist ein Bsp. für einen __Methodenaufruf__\n",
    "* `.upper()` ist eine sog. __Methode__\n",
    "* Methoden sind besondere Funktionen. \n",
    "    * Methoden haben einen __Aufrufer__, hier `\"abcd\"`\n",
    "    * Der Aufrufer ist das implizit an die Methode überreichte erste Argument.\n",
    "* `'ABCD'` ist das Ergebnis/`return` des Methodenaufrufs\n",
    "* Je nachdem, welchen Typ der Aufrufer, stehen uns andere Methoden zur Verfügung. Bspw. würde `[].upper()` keinen Sinn.\n",
    "    * `[]` ist eine leere Liste "
   ]
  },
  {
   "cell_type": "markdown",
   "metadata": {},
   "source": [
    "### Listen"
   ]
  },
  {
   "cell_type": "code",
   "execution_count": null,
   "metadata": {},
   "outputs": [
    {
     "data": {
      "text/plain": [
       "[5, ['a', 'b', 'c'], 'Python']"
      ]
     },
     "execution_count": 84,
     "metadata": {},
     "output_type": "execute_result"
    }
   ],
   "source": [
    "my_list = []\n",
    "my_list.append(5)\n",
    "my_list.append(['a','b','c'])\n",
    "my_list.append(\"Python\")\n",
    "\n",
    "my_list"
   ]
  },
  {
   "cell_type": "markdown",
   "metadata": {},
   "source": [
    "__List Comprehensions__\n",
    "Ich möchte eine Liste von _geraden_ Quadratzahlen bauen."
   ]
  },
  {
   "cell_type": "code",
   "execution_count": null,
   "metadata": {},
   "outputs": [
    {
     "data": {
      "text/plain": [
       "[4, 16]"
      ]
     },
     "execution_count": 95,
     "metadata": {},
     "output_type": "execute_result"
    }
   ],
   "source": [
    "my_list = []\n",
    "for i in range(1,6):\n",
    "    if i%2==0:\n",
    "        my_list.append(i**2)\n",
    "\n",
    "my_list\n"
   ]
  },
  {
   "cell_type": "code",
   "execution_count": null,
   "metadata": {},
   "outputs": [
    {
     "data": {
      "text/plain": [
       "[4, 16]"
      ]
     },
     "execution_count": 96,
     "metadata": {},
     "output_type": "execute_result"
    }
   ],
   "source": [
    "# das Gleiche in nur einer Zeile🤩🤩\n",
    "[i**2            for i in range(1,6)           if i%2==0]"
   ]
  },
  {
   "cell_type": "code",
   "execution_count": null,
   "metadata": {},
   "outputs": [
    {
     "data": {
      "text/plain": [
       "30"
      ]
     },
     "execution_count": 100,
     "metadata": {},
     "output_type": "execute_result"
    }
   ],
   "source": [
    "# summe der ersten paar  Quadratzahlen\n",
    "my_squares = [i**2 for i in range(1,5)]\n",
    "print(sum(my_squares))\n",
    "#1+4+9+16=30"
   ]
  },
  {
   "cell_type": "code",
   "execution_count": null,
   "metadata": {},
   "outputs": [
    {
     "data": {
      "text/plain": [
       "[16, 9, 4, 1]"
      ]
     },
     "execution_count": 108,
     "metadata": {},
     "output_type": "execute_result"
    }
   ],
   "source": [
    "my_squares = [i**2 for i in range(1,5)]\n",
    "my_squares[ : :-1]"
   ]
  },
  {
   "cell_type": "markdown",
   "metadata": {},
   "source": [
    "### Tupel"
   ]
  },
  {
   "cell_type": "code",
   "execution_count": null,
   "metadata": {},
   "outputs": [
    {
     "name": "stdout",
     "output_type": "stream",
     "text": [
      "(1, 4, 9, 16)\n",
      "['XXX', 4, 9, 16]\n",
      "Fehler.\n"
     ]
    }
   ],
   "source": [
    "my_squares = [i**2 for i in range(1,5)]\n",
    "my_tuple = tuple(my_squares)\n",
    "print(my_tuple) #wie liste, aber mit runden Klammern\n",
    "\n",
    "my_squares[0] = \"XXX\"\n",
    "print(my_squares)\n",
    "\n",
    "try:\n",
    "    my_tuple[0] = \"XXX\"\n",
    "    print(my_tuple)\n",
    "except:\n",
    "    print(\"Fehler.\")"
   ]
  },
  {
   "cell_type": "markdown",
   "metadata": {},
   "source": [
    "Beobachtung: Tupel-Elemente können im Gegensatz zu Listen-Elementen nicht geändert werden!\n",
    "\n",
    "$\\Rightarrow$ Tupel sind unveränderbar/__immutabel__\n"
   ]
  },
  {
   "cell_type": "code",
   "execution_count": null,
   "metadata": {},
   "outputs": [
    {
     "name": "stdout",
     "output_type": "stream",
     "text": [
      "Fehler\n"
     ]
    },
    {
     "data": {
      "text/plain": [
       "'cd'"
      ]
     },
     "execution_count": 117,
     "metadata": {},
     "output_type": "execute_result"
    }
   ],
   "source": [
    "my_string = \"abcd\"\n",
    "try:\n",
    "    my_string[0] = \"X\"\n",
    "except:\n",
    "    print(\"Fehler\")\n",
    "\n",
    "my_string[-2:]"
   ]
  },
  {
   "cell_type": "code",
   "execution_count": null,
   "metadata": {},
   "outputs": [
    {
     "name": "stdout",
     "output_type": "stream",
     "text": [
      "N.S.\n"
     ]
    }
   ],
   "source": [
    "# Ich möchte Initialien extrahieren\n",
    "name = \"Nico\"\n",
    "nachname = \"Schmidt\"\n",
    "\n",
    "print(name[0]+'.'+nachname[0]+'.')\n",
    "\n",
    "\n",
    "# N.S."
   ]
  },
  {
   "cell_type": "code",
   "execution_count": null,
   "metadata": {},
   "outputs": [
    {
     "name": "stdout",
     "output_type": "stream",
     "text": [
      "Python ist toll!\n",
      "Python\n"
     ]
    }
   ],
   "source": [
    "name = \"Python\"\n",
    "print(name + \"ist toll!\")\n",
    "print(name)"
   ]
  },
  {
   "cell_type": "code",
   "execution_count": null,
   "metadata": {},
   "outputs": [
    {
     "name": "stdout",
     "output_type": "stream",
     "text": [
      "<class 'str'>\n",
      "<class 'tuple'>\n"
     ]
    }
   ],
   "source": [
    "print(type(('a')))  #das ist KEIN ein-elementiges Tupel\n",
    "print(type(tuple('a'))) #so wird ein ein-elementiges Tupel erzeugt."
   ]
  },
  {
   "cell_type": "markdown",
   "metadata": {},
   "source": [
    "# Freitag\n",
    "## Wiederholung"
   ]
  },
  {
   "cell_type": "code",
   "execution_count": null,
   "metadata": {},
   "outputs": [],
   "source": [
    "my_list = []\n",
    "for i in range (1, 11):\n",
    "    my_list.append(i)"
   ]
  },
  {
   "cell_type": "code",
   "execution_count": null,
   "metadata": {},
   "outputs": [
    {
     "data": {
      "text/plain": [
       "[1, 2, 3, 4]"
      ]
     },
     "execution_count": 2,
     "metadata": {},
     "output_type": "execute_result"
    }
   ],
   "source": [
    "[i   for i in range(1,5)]"
   ]
  },
  {
   "cell_type": "markdown",
   "metadata": {},
   "source": [
    "$\\{i\\mid i\\in\\mathbb{N}, 1\\le i < 11 \\}$"
   ]
  },
  {
   "cell_type": "code",
   "execution_count": 12,
   "metadata": {},
   "outputs": [
    {
     "name": "stdout",
     "output_type": "stream",
     "text": [
      "[1, 2, 3]\n",
      "<class 'list'>\n",
      "[1, 2, 3]\n",
      "<class 'list'>\n"
     ]
    }
   ],
   "source": [
    "my_tup = (1,2,3)\n",
    "my_list = list(my_tup)\n",
    "\n",
    "print(my_list, type(my_list), sep=\"\\n\")\n",
    "\n",
    "#gleicher Output aber mit f-String\n",
    "print(f\"{my_list}\\n{type(my_list)}\")\n",
    "\n"
   ]
  },
  {
   "cell_type": "code",
   "execution_count": 56,
   "metadata": {},
   "outputs": [
    {
     "name": "stdout",
     "output_type": "stream",
     "text": [
      "[1, 4, 9, 16, 25, 36, 49]\tOriginalliste \n",
      "\t[9, 16, 25, 36, 49]\t[2:] \t ab 2. Postion (Anfang = 0. Position) \n",
      " \t[1, 4, 9]\t[:3] \t bis zur 3. Position (einschl. oder ausschl., egal)\n",
      "\t[36, 49]\t[-2:] \t ab dem Vorletzten Element\n",
      "\t[1, 9, 25, 49]\t\t [::2] \t jedes zweite Element, d.h. die 3. Position im Indexer ist der sog. step-Counter\n",
      "\t[49, 36, 25, 16, 9, 4, 1]\t[::-1] \t Rückwärts durchlaufen\n",
      "\n"
     ]
    }
   ],
   "source": [
    "my_list = [i**2      for i in range(1,8)]\n",
    "\n",
    "print(\n",
    "    my_list, \"Originalliste \\n\",\n",
    "    my_list[2:], \"[2:] \\t ab 2. Postion (Anfang = 0. Position) \\n \",\n",
    "    my_list[:3], \"[:3] \\t bis zur 3. Position (einschl. oder ausschl., egal)\\n\", \n",
    "    my_list[-2:], \"[-2:] \\t ab dem Vorletzten Element\\n\",\n",
    "    my_list[::2], \"\\t [::2] \\t jedes zweite Element, d.h. die 3. Position im Indexer ist der sog. step-Counter\\n\", \n",
    "    my_list[::-1], \"[::-1] \\t Rückwärts durchlaufen\\n\",\n",
    "    sep=\"\\t\",\n",
    ")\n"
   ]
  },
  {
   "cell_type": "code",
   "execution_count": 39,
   "metadata": {},
   "outputs": [
    {
     "name": "stdout",
     "output_type": "stream",
     "text": [
      "[1, 4, 9, 16]\n",
      "[16, 9, 4, 1]\n",
      "[1, 9]\n",
      "[9, 16]\n",
      "\n",
      "[1, 2, 3, 4, 5, 6, 7, 8, 9, 10]\n",
      "[10, 9, 8, 7, 6, 5, 4, 3, 2, 1]\n",
      "[1, 3, 5, 7, 9]\n",
      "[3, 4, 5, 6, 7, 8, 9, 10]\n"
     ]
    }
   ],
   "source": [
    "my_list = [i ** 2 for i in range(1,5)]\n",
    "my_list1 = [1,2,3,4,5,6,7,8,9,10]\n",
    "\n",
    "print(my_list, my_list[::-1], my_list[::2],my_list[2:], sep = \"\\n\", end=\"\\n\"*2) \n",
    "\n",
    "print(my_list1, my_list1[::-1], my_list1[::2],my_list1[2:], sep = \"\\n\")\n"
   ]
  },
  {
   "cell_type": "markdown",
   "metadata": {},
   "source": [
    "### Aufgabe 5: Liste von Tupeln\n",
    "Erstelle eine Liste von Tupeln, wobei jedes Tupel aus einer Zahl und ihrem Quadrat besteht (für Zahlen von 1 bis 5)."
   ]
  },
  {
   "cell_type": "code",
   "execution_count": 57,
   "metadata": {},
   "outputs": [
    {
     "data": {
      "text/plain": [
       "[(1, 1), (2, 4), (3, 9), (4, 16), (5, 25)]"
      ]
     },
     "execution_count": 57,
     "metadata": {},
     "output_type": "execute_result"
    }
   ],
   "source": [
    "[ (i,i**2)    for i in range(1,6) ]"
   ]
  },
  {
   "cell_type": "markdown",
   "metadata": {},
   "source": [
    "$\\{ (i,i^2) \\mid i\\in\\mathbb{N}, 1\\le i<6 \\}$"
   ]
  },
  {
   "cell_type": "code",
   "execution_count": 65,
   "metadata": {},
   "outputs": [
    {
     "name": "stdout",
     "output_type": "stream",
     "text": [
      "[(1, 1), (2, 4), (3, 9), (4, 16), (5, 25)]\n"
     ]
    }
   ],
   "source": [
    "# Aufgabe: List-Comprehension als for-loop mt .append() nachbauen\n",
    "my_list=[]\n",
    "\n",
    "for i in range (1,6):\n",
    "    my_list.append( (i,i**2) )\n",
    "\n",
    "print(my_list)"
   ]
  },
  {
   "cell_type": "code",
   "execution_count": 66,
   "metadata": {},
   "outputs": [
    {
     "name": "stdout",
     "output_type": "stream",
     "text": [
      "[0, 4, 16, 36, 64, 100]\n"
     ]
    }
   ],
   "source": [
    "my_list = [i**2 for i in range(12)]\n",
    "\n",
    "# vervollständige die List Comprehension even_numbers so, dass am Ende nur die geraden Zahlen aus my_list übrig bleiben\n",
    "even_numbers = [x     for x in my_list     if x%2==0  ]\n",
    "print(even_numbers)"
   ]
  },
  {
   "cell_type": "code",
   "execution_count": 72,
   "metadata": {},
   "outputs": [
    {
     "name": "stdout",
     "output_type": "stream",
     "text": [
      "[0, 4, 16, 36, 64, 100]\n"
     ]
    },
    {
     "data": {
      "text/plain": [
       "True"
      ]
     },
     "execution_count": 72,
     "metadata": {},
     "output_type": "execute_result"
    }
   ],
   "source": [
    "# Aufgabe: Baue\n",
    "# [x for x in my_list if x%2==0  ]\n",
    "# als for-loop mit .append() nach\n",
    "\n",
    "even_numbers=[]\n",
    "\n",
    "for i in my_list:\n",
    "    if i%2==0:\n",
    "        even_numbers.append(i)\n",
    "\n",
    "print(even_numbers)\n",
    "16 in even_numbers"
   ]
  },
  {
   "cell_type": "code",
   "execution_count": 86,
   "metadata": {},
   "outputs": [
    {
     "data": {
      "text/plain": [
       "NoneType"
      ]
     },
     "execution_count": 86,
     "metadata": {},
     "output_type": "execute_result"
    }
   ],
   "source": [
    "# Aufgabe: Implementiere\n",
    "def contains(eine_liste: list, eine_zahl: int) -> bool:\n",
    "    for x in eine_liste:\n",
    "        if x==eine_zahl:\n",
    "            return True #return terminiert Ausführung, so wie break\n",
    "    return False \n",
    "\n",
    "\n",
    "contains([8,3,55,-8], 55)\n"
   ]
  },
  {
   "cell_type": "markdown",
   "metadata": {},
   "source": [
    "## Sets\n",
    "Besonderheit von sets: ein Element kann max. einmal enthalten sein"
   ]
  },
  {
   "cell_type": "code",
   "execution_count": 87,
   "metadata": {},
   "outputs": [
    {
     "data": {
      "text/plain": [
       "{1, 2, 3, 4}"
      ]
     },
     "execution_count": 87,
     "metadata": {},
     "output_type": "execute_result"
    }
   ],
   "source": [
    "set([1,2,3,4,4,4,4,4,4]) #Typumwandlung von list auf set"
   ]
  },
  {
   "cell_type": "code",
   "execution_count": 91,
   "metadata": {},
   "outputs": [
    {
     "data": {
      "text/plain": [
       "{1, 2, 3, 'Ein toller String'}"
      ]
     },
     "execution_count": 91,
     "metadata": {},
     "output_type": "execute_result"
    }
   ],
   "source": [
    "my_set = {1,2,3}\n",
    "my_set.add(\"Ein toller String\")\n",
    "my_set"
   ]
  },
  {
   "cell_type": "code",
   "execution_count": 150,
   "metadata": {},
   "outputs": [
    {
     "name": "stdout",
     "output_type": "stream",
     "text": [
      "{1, 2}\n"
     ]
    }
   ],
   "source": [
    "my_set = {1,2,3}\n",
    "# x = my_set.pop() #verändert das aufrufende set\n",
    "my_set = my_set.difference({3})\n",
    "print(\n",
    "    my_set,\n",
    "    sep='\\n'\n",
    ")"
   ]
  },
  {
   "cell_type": "code",
   "execution_count": 137,
   "metadata": {},
   "outputs": [
    {
     "data": {
      "text/plain": [
       "97"
      ]
     },
     "execution_count": 137,
     "metadata": {},
     "output_type": "execute_result"
    }
   ],
   "source": [
    "ord('a')"
   ]
  },
  {
   "cell_type": "markdown",
   "metadata": {},
   "source": [
    "## Dictionaries\n",
    "\n",
    "| Land | Nationalgericht |\n",
    "|------|-----------------|\n",
    "| Türkei | Baklavaaa |\n",
    "| Deutschland | Döner |\n",
    "| Ungarn | Gulasch |\n",
    "| Italien | Pizza |\n",
    "\n",
    "Hinweis: Der Typ des keys muss immutable sein."
   ]
  },
  {
   "cell_type": "code",
   "execution_count": 106,
   "metadata": {},
   "outputs": [
    {
     "name": "stdout",
     "output_type": "stream",
     "text": [
      "Pizza\n",
      "Pizza\n"
     ]
    }
   ],
   "source": [
    "nationalgericht = {\n",
    "    # key: value\n",
    "    'TR': 'Baklava',\n",
    "    'DE': 'VW Currywurst',\n",
    "    'HU': 'Gulasch',\n",
    "    'IT': 'Pizza'\n",
    "}\n",
    "\n",
    "print(nationalgericht['IT'])\n",
    "print(nationalgericht.get('IT', 'key not found.'))"
   ]
  },
  {
   "cell_type": "code",
   "execution_count": 160,
   "metadata": {},
   "outputs": [
    {
     "name": "stdout",
     "output_type": "stream",
     "text": [
      "('TR', 'Baklava')\n",
      "('DE', 'VW Currywurst')\n",
      "('HU', 'Gulasch')\n",
      "('IT', 'Pizza')\n",
      "('Türkei', 'Lamachun')\n",
      "('Frankreich', 'Baguette')\n",
      "('U', 'S')\n"
     ]
    }
   ],
   "source": [
    "# 1. Aufgabe: Ändere das Nationalgericht eines beliebigen Landes\n",
    "nationalgericht[\"Türkei\"] = \"Lamachun\"\n",
    "\n",
    "# 2. Aufgabe: Füge ein weiteres Land mit Nationalgericht hinzu. Tipp: verwende den Indexer\n",
    "nationalgericht[\"Frankreich\"]= \"Baguette\"\n",
    "\n",
    "print(*nationalgericht.items(), sep='\\n')"
   ]
  },
  {
   "cell_type": "code",
   "execution_count": 113,
   "metadata": {},
   "outputs": [
    {
     "name": "stdout",
     "output_type": "stream",
     "text": [
      "dict_keys(['TR', 'DE', 'HU', 'IT'])\n",
      "dict_values(['Baklava', 'VW Currywurst', 'Gulasch', 'Pizza'])\n",
      "dict_items([('TR', 'Baklava'), ('DE', 'VW Currywurst'), ('HU', 'Gulasch'), ('IT', 'Pizza')])\n"
     ]
    }
   ],
   "source": [
    "# nützliche dict-Methoden:\n",
    "print(\n",
    "    nationalgericht.keys(),\n",
    "    nationalgericht.values(),\n",
    "    nationalgericht.items(),\n",
    "    sep=\"\\n\"\n",
    ")"
   ]
  },
  {
   "cell_type": "markdown",
   "metadata": {},
   "source": [
    "## `math` modul"
   ]
  },
  {
   "cell_type": "code",
   "execution_count": 169,
   "metadata": {},
   "outputs": [
    {
     "data": {
      "text/plain": [
       "1.0"
      ]
     },
     "execution_count": 169,
     "metadata": {},
     "output_type": "execute_result"
    }
   ],
   "source": [
    "import math\n",
    "\n",
    "math.sin(math.pi/2)"
   ]
  },
  {
   "cell_type": "markdown",
   "metadata": {},
   "source": [
    "* `math` ist ein __package__/Bibliothek/__library__\n",
    "* Auf die Inhalte eines Packages greifen wir mittels Punkt-Notation zu, Bsp.:\n",
    "\n",
    "```python\n",
    "kreiszahl_pi = math.pi\n",
    "print(kreiszahl_pi)\n",
    "```\n",
    "\n",
    "Hier wird der Wert der Kreiszahl $\\pi\\approx 3.1415$, der in `math` gespeichert ist, ausgelesen und in `kreiszahl_pi` gespeichert."
   ]
  },
  {
   "cell_type": "markdown",
   "metadata": {},
   "source": [
    "### Aufgabe: Zinseszins Rechner\n",
    "* `startkapital` z.B. = 100 ist unser Startkapital\n",
    "* `zins` bspw. = 10 ist der jährlich Zinssatz\n",
    "* `laufzeit` = Laufzeit in Jahren\n",
    "\n",
    "Wenn `startkapital=100` und `zins=10`, dann entwickelt sich der Endbetrag wie folgt:\n",
    "\n",
    "| 0 | 1 | 2 | 3 |\n",
    "|---|---|---|---|\n",
    "| 100 | 110 | 121 | 133.1 |"
   ]
  },
  {
   "cell_type": "code",
   "execution_count": 3,
   "metadata": {},
   "outputs": [
    {
     "name": "stdout",
     "output_type": "stream",
     "text": [
      " 133.10\n"
     ]
    }
   ],
   "source": [
    "#Noah👍\n",
    "def zinsrechner (startkapital, zins, jahre):\n",
    "    return startkapital * (1 + zins/100)**jahre\n",
    "\n",
    "print(f\"{ zinsrechner(100, 10, 3) : .2f}\")"
   ]
  },
  {
   "cell_type": "code",
   "execution_count": 9,
   "metadata": {},
   "outputs": [
    {
     "name": "stdout",
     "output_type": "stream",
     "text": [
      "[110.0, 121.0, 133.1]\n"
     ]
    }
   ],
   "source": [
    "startkapital = int(input(\"Gib dein Startkapital an:\"))\n",
    "zins = int(input(\"Gib den Zins an:\"))\n",
    "laufzeit = int(input(\"Gib die Laufzeit an:\"))\n",
    "x = []\n",
    "\n",
    "for i in range(laufzeit):   \n",
    "    startkapital *= (1+ zins/100)\n",
    "    x.append( round(startkapital,2) )\n",
    "\n",
    "print(x)"
   ]
  },
  {
   "cell_type": "markdown",
   "metadata": {},
   "source": [
    "### Ungleichheitsoperator\n",
    "Der Ausdruck\n",
    "```python\n",
    "a != b\n",
    "```\n",
    "\n",
    "ist logisch äquivalent zu\n",
    "\n",
    "```python\n",
    "not (a==b)\n",
    "```"
   ]
  },
  {
   "cell_type": "markdown",
   "metadata": {},
   "source": [
    "__Aufgabe Lichtschalter__\n",
    "* Schreibe ein Programm, dass einen Lichtschalter simuliert.\n",
    "* Die Nutzereingabe wird per `input()` abgefragt.\n",
    "* Jedes Mal, wenn wir auf Enter hauen, kommt entweder die Meldung\n",
    "    *  `\"aus\"` oder\n",
    "    * `\"an\"`\n",
    "* Falls die Eingabe `\"q\"` ist, endet das Programm."
   ]
  },
  {
   "cell_type": "code",
   "execution_count": 17,
   "metadata": {},
   "outputs": [
    {
     "name": "stdout",
     "output_type": "stream",
     "text": [
      "Licht ist aus.\n",
      "Licht ist an.\n",
      "Licht ist aus.\n",
      "Licht ist an.\n",
      "Licht ist aus.\n",
      "Licht ist an.\n",
      "Licht ist aus.\n",
      "Licht ist an.\n",
      "Licht ist aus.\n",
      "Licht ist an.\n"
     ]
    }
   ],
   "source": [
    "# Chris\n",
    "ist_an = False\n",
    "\n",
    "while True:\n",
    "    if input() == \"q\":\n",
    "        break\n",
    "    else:\n",
    "        if not ist_an:\n",
    "            print(\"Licht ist aus.\")\n",
    "        else:\n",
    "            print(\"Licht ist an.\")\n",
    "        \n",
    "        ist_an = not ist_an\n",
    "\n",
    "\n",
    "  "
   ]
  },
  {
   "cell_type": "code",
   "execution_count": 18,
   "metadata": {},
   "outputs": [
    {
     "name": "stdout",
     "output_type": "stream",
     "text": [
      "Licht an\n",
      "Licht aus\n",
      "Licht an\n",
      "Licht aus\n",
      "Licht an\n",
      "Licht aus\n",
      "Licht an\n"
     ]
    }
   ],
   "source": [
    "def lichtschalter():\n",
    "    zustand = True\n",
    "\n",
    "    while True:\n",
    "        eingabe = input(\"Lichtschalter mit Enter betätigen!\")\n",
    "        if eingabe == (\"\"):\n",
    "            if zustand == True:\n",
    "                print(\"Licht an\")\n",
    "                zustand = False\n",
    "            elif zustand == False:\n",
    "                print(\"Licht aus\")\n",
    "                zustand = True\n",
    "        elif eingabe == (\"q\"):\n",
    "            break\n",
    "\n",
    "lichtschalter()"
   ]
  },
  {
   "cell_type": "markdown",
   "metadata": {},
   "source": [
    "# KW05\n",
    "## Wiederholungsaufgaben"
   ]
  },
  {
   "cell_type": "markdown",
   "metadata": {},
   "source": [
    "### Aufgaben (🌶️️ oder 🌶️️🌶️️)\n",
    "* Überfliege die Inhalte zur 4. KW im [Python-wiki](https://python-wiki.de/) und löse dabei die (meist sehr leichten) Aufgaben\n",
    "* Gehe dieses Jupyter Notebook durch und löse alle hier besprochenen Aufgaben, natürlich ohne in die Lösung zu spicken😉"
   ]
  },
  {
   "cell_type": "markdown",
   "metadata": {},
   "source": [
    "### Taschenrechner 🌶️️🌶️️ (Basisversion), 🌶️️🌶️️🌶️️ (Bonusversion)\n",
    "Baue einen einfachen Taschenrechner🤓\n",
    "* Es werden `zahl1` und `zahl2` abgefragt.\n",
    "* Zudem wird die gewünschte Rechenoperation abgefragt (`+, - , /, *`).\n",
    "\n",
    "\n",
    "__Bonus__:\n",
    "* Importiere das `math` packet und biete weitere Rechenoperationen an, bspw. $\\log_\\textit{zahl2} \\textit{zahl1}$.\n",
    "* Die Abfrage von `zahl1`, `zahl2` und der Rechenoperation __soll mit nur einem Input__ bewerkstelligt werden.\n",
    "    * Verwende `str.split()`. Mit `str` ist der Datentyp gemeint, mit `split()` eine bestimmte Methode."
   ]
  },
  {
   "cell_type": "code",
   "execution_count": 57,
   "metadata": {},
   "outputs": [
    {
     "name": "stdout",
     "output_type": "stream",
     "text": [
      "-1.0\n"
     ]
    }
   ],
   "source": [
    "def eingaben() -> tuple[float, float]: \n",
    "    \"\"\"Zwei Zahlen werden abgefragt u2\n",
    "    nd als zwei-elementiges float-tupel zurückgeliefert\"\"\"\n",
    "    while True:\n",
    "        try:\n",
    "            return  float(input(\"Bitte 1. Zahl eingeben: \")), \\\n",
    "                    float(input(\"Bitte 2. Zahl eingeben: \"))\n",
    "        except ValueError:\n",
    "            print(\"Ungültige Eingabe. Bitte geben Sie gültige Float-Zahlen ein.\")\n",
    "\n",
    "def calculate(float1: float, float2: float) -> float:\n",
    "    '''Hier werden die Zahlen miteinander Verrechnet. Zulässige Operatoren: +,-,/,*,**'''\n",
    "\n",
    "    while True:\n",
    "        operator = input(\"Bitte Operator (+,-,/,*,**) eingeben.\")\n",
    "        if operator in {'+', '-', '/', '*', '**'}:\n",
    "            return eval(f\"{float1}{operator}{float2}\")\n",
    "            break\n",
    "\n",
    "\n",
    "result = calculate(*eingaben())\n",
    "print(result)\n"
   ]
  },
  {
   "cell_type": "code",
   "execution_count": 39,
   "metadata": {},
   "outputs": [
    {
     "data": {
      "text/plain": [
       "3"
      ]
     },
     "execution_count": 39,
     "metadata": {},
     "output_type": "execute_result"
    }
   ],
   "source": [
    "import math \n",
    "\n",
    "math.ceil(2.3)\n",
    "\n",
    "eval(\"math.ceil(2.3)\")"
   ]
  },
  {
   "cell_type": "code",
   "execution_count": 29,
   "metadata": {},
   "outputs": [
    {
     "name": "stdout",
     "output_type": "stream",
     "text": [
      "0 1 2 3 4 5 6 7 8 9 10 11\n"
     ]
    }
   ],
   "source": [
    "my_range = range(12)\n",
    "\n",
    "print(*my_range)\n"
   ]
  },
  {
   "cell_type": "code",
   "execution_count": 27,
   "metadata": {},
   "outputs": [
    {
     "ename": "SyntaxError",
     "evalue": "default 'except:' must be last (4261746612.py, line 3)",
     "output_type": "error",
     "traceback": [
      "\u001b[1;36m  Cell \u001b[1;32mIn[27], line 3\u001b[1;36m\u001b[0m\n\u001b[1;33m    except:\u001b[0m\n\u001b[1;37m    ^\u001b[0m\n\u001b[1;31mSyntaxError\u001b[0m\u001b[1;31m:\u001b[0m default 'except:' must be last\n"
     ]
    }
   ],
   "source": [
    "try:\n",
    "    (1,2,3)[0] = \"afdsadf\"\n",
    "except IndexError: \n",
    "    print(\"Bleib innerhalb der Grenzen!!\")\n",
    "except TypeError:\n",
    "    print(\"Du hast wohl versucht, ein Tupel-Element zu überschreiben.\")\n",
    "except:\n",
    "    print(\"Ok, du hast was ganz Wildes getan🤪🤪\")"
   ]
  },
  {
   "cell_type": "markdown",
   "metadata": {},
   "source": [
    "### Aufgabe🌶️️🌶️️🌶️️🌶️️\n",
    "- Fordere den Benutzer auf, mehrere Einträge mit Kundeninformationen einzugeben (Format: \"Name, Alter, Email\"). \n",
    "    - Beende die Eingabe mit \"fertig\" oder \"q\".\n",
    "    - wirf einen Blick auf `str.split()`. Mit `str` ist der Datentyp gemeint, mit `split()` eine bestimmte Methode.\n",
    "- Filtere die Daten, um nur Kunden über 30 Jahre in die Ausgabe einzuschließen.\n",
    "    - Wirf einen Blick auf `list.sort`\n",
    "- Gib die gefilterten Daten auf der Konsole aus, sortiert nach dem Alter in absteigender Reihenfolge."
   ]
  },
  {
   "cell_type": "code",
   "execution_count": 90,
   "metadata": {},
   "outputs": [
    {
     "data": {
      "text/plain": [
       "[('5', 'a'), ('6', 'b')]"
      ]
     },
     "execution_count": 90,
     "metadata": {},
     "output_type": "execute_result"
    }
   ],
   "source": [
    "rows = [] #leere Excel-Tabelle\n",
    "\n",
    "while True:\n",
    "    row = input(\"Bitte Name, Alter eingeben. (q oder fertig zum beenden.)\")\n",
    "    if row in {'q', 'fertig'}:\n",
    "        break\n",
    "    else:\n",
    "        row = tuple(row.split(','))\n",
    "        row = row[1], row[0]\n",
    "        rows.append(row)\n",
    "\n",
    "rows"
   ]
  },
  {
   "cell_type": "code",
   "execution_count": 68,
   "metadata": {},
   "outputs": [
    {
     "name": "stdout",
     "output_type": "stream",
     "text": [
      "[(-2, 'y'), (1, 'x'), (5, 'a')]\n"
     ]
    }
   ],
   "source": [
    "my_list = [('x',1), ('y',-2), ('a',5)]\n",
    "my_list = [(tup[1],tup[0])  for tup in my_list]\n",
    "my_list.sort()\n",
    "print(my_list)\n"
   ]
  }
 ],
 "metadata": {
  "kernelspec": {
   "display_name": "Python 3",
   "language": "python",
   "name": "python3"
  },
  "language_info": {
   "codemirror_mode": {
    "name": "ipython",
    "version": 3
   },
   "file_extension": ".py",
   "mimetype": "text/x-python",
   "name": "python",
   "nbconvert_exporter": "python",
   "pygments_lexer": "ipython3",
   "version": "3.11.7"
  }
 },
 "nbformat": 4,
 "nbformat_minor": 2
}
