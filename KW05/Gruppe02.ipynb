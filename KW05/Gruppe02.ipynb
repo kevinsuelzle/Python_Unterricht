{
 "cells": [
  {
   "cell_type": "markdown",
   "metadata": {},
   "source": [
    "# KW 05\n",
    "# Debugger\n"
   ]
  },
  {
   "cell_type": "code",
   "execution_count": 4,
   "metadata": {},
   "outputs": [],
   "source": [
    "for i in range(1,10,3):\n",
    "    for j in range(101,80,-7):\n",
    "        k = 3*i + 4*j\n",
    "        print(k)\n",
    "\n",
    "\n",
    "\n",
    "\n"
   ]
  },
  {
   "cell_type": "code",
   "execution_count": 1,
   "metadata": {},
   "outputs": [
    {
     "name": "stdout",
     "output_type": "stream",
     "text": [
      "101\n",
      "94\n",
      "87\n"
     ]
    }
   ],
   "source": []
  },
  {
   "cell_type": "code",
   "execution_count": null,
   "metadata": {},
   "outputs": [],
   "source": []
  },
  {
   "cell_type": "code",
   "execution_count": null,
   "metadata": {},
   "outputs": [],
   "source": [
    "a = 25\n",
    "b = 10\n",
    "\n",
    "if a < b:\n",
    "    result = a + b\n",
    "    if result > 30:\n",
    "        result = result + 5\n",
    "    else:\n",
    "        result = result - 3\n",
    "else:\n",
    "    result = a - b\n",
    "    if result < 10:\n",
    "        result = result * 2\n",
    "    else:\n",
    "        result = result // 2\n",
    "print(result)"
   ]
  }
 ],
 "metadata": {
  "kernelspec": {
   "display_name": "Python 3",
   "language": "python",
   "name": "python3"
  },
  "language_info": {
   "codemirror_mode": {
    "name": "ipython",
    "version": 3
   },
   "file_extension": ".py",
   "mimetype": "text/x-python",
   "name": "python",
   "nbconvert_exporter": "python",
   "pygments_lexer": "ipython3",
   "version": "3.11.7"
  }
 },
 "nbformat": 4,
 "nbformat_minor": 2
}
