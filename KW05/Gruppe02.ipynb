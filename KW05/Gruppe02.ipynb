{
 "cells": [
  {
   "cell_type": "markdown",
   "metadata": {},
   "source": [
    "# KW 05\n",
    "# Debugger\n"
   ]
  },
  {
   "cell_type": "code",
   "execution_count": null,
   "metadata": {
    "vscode": {
     "languageId": "plaintext"
    }
   },
   "outputs": [],
   "source": [
    "a = 25\n",
    "b = 10\n",
    "\n",
    "if a < b:\n",
    "    result = a + b\n",
    "    if result > 30:\n",
    "        result = result + 5\n",
    "    else:\n",
    "        result = result - 3\n",
    "else:\n",
    "    result = a - b\n",
    "    if result < 10:\n",
    "        result = result * 2\n",
    "    else:\n",
    "        result = result // 2\n",
    "print(result)"
   ]
  }
 ],
 "metadata": {
  "language_info": {
   "name": "python"
  }
 },
 "nbformat": 4,
 "nbformat_minor": 2
}
