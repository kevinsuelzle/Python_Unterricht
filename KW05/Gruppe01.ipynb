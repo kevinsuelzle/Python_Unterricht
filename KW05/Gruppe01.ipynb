{
 "cells": [
  {
   "cell_type": "markdown",
   "metadata": {},
   "source": [
    "# KW 05\n",
    "# Der Debugger\n",
    "\n",
    "wichtigste Anwendung: Schleifen Debuggen"
   ]
  },
  {
   "cell_type": "code",
   "execution_count": 1,
   "metadata": {},
   "outputs": [
    {
     "name": "stdout",
     "output_type": "stream",
     "text": [
      "-15\n",
      "-16\n",
      "-17\n",
      "-18\n",
      "-19\n",
      "-12\n",
      "-13\n",
      "-14\n",
      "-15\n",
      "-16\n",
      "-9\n",
      "-10\n",
      "-11\n",
      "-12\n",
      "-13\n",
      "-6\n",
      "-7\n",
      "-8\n",
      "-9\n",
      "-10\n",
      "-3\n",
      "-4\n",
      "-5\n",
      "-6\n",
      "-7\n"
     ]
    }
   ],
   "source": [
    "for i in range(5):\n",
    "    for j in range(15,20):\n",
    "        print(3*i-j)\n"
   ]
  },
  {
   "cell_type": "code",
   "execution_count": 3,
   "metadata": {},
   "outputs": [
    {
     "name": "stdout",
     "output_type": "stream",
     "text": [
      "0\n"
     ]
    }
   ],
   "source": [
    "a = 1 #10\n",
    "b = 2 #25\n",
    "\n",
    "if a < b:\n",
    "    result = a + b\n",
    "    if result > 30:\n",
    "        result = result + 5\n",
    "    else:\n",
    "        result = result - 3\n",
    "else:\n",
    "    result = a - b\n",
    "    if result < 10:\n",
    "        result = result * 2\n",
    "    else:\n",
    "        result = result // 2\n",
    "print(result)"
   ]
  },
  {
   "cell_type": "markdown",
   "metadata": {},
   "source": [
    "# Listen"
   ]
  },
  {
   "cell_type": "code",
   "execution_count": 8,
   "metadata": {},
   "outputs": [
    {
     "name": "stdout",
     "output_type": "stream",
     "text": [
      "try Block hat einen Fehler geworfen.\n"
     ]
    }
   ],
   "source": [
    "# Bsp. um zu demonstrieren, dass Strings immutabel sind\n",
    "\n",
    "my_string = \"Peter\"\n",
    "try:\n",
    "    # my_string[0] = \"p\"\n",
    "    # (1,2,3)[0] = 11\n",
    "    [1,2,3][0] = 11\n",
    "    print(\"try erfolgreich ausgeführt\")\n",
    "except:\n",
    "    print(\"try Block hat einen Fehler geworfen.\")"
   ]
  }
 ],
 "metadata": {
  "kernelspec": {
   "display_name": "Python 3",
   "language": "python",
   "name": "python3"
  },
  "language_info": {
   "codemirror_mode": {
    "name": "ipython",
    "version": 3
   },
   "file_extension": ".py",
   "mimetype": "text/x-python",
   "name": "python",
   "nbconvert_exporter": "python",
   "pygments_lexer": "ipython3",
   "version": "3.11.7"
  }
 },
 "nbformat": 4,
 "nbformat_minor": 2
}
