{
 "cells": [
  {
   "cell_type": "markdown",
   "metadata": {},
   "source": [
    "# KW 05\n",
    "# Der Debugger\n",
    "\n",
    "wichtigste Anwendung: Schleifen Debuggen"
   ]
  },
  {
   "cell_type": "code",
   "execution_count": 1,
   "metadata": {},
   "outputs": [
    {
     "name": "stdout",
     "output_type": "stream",
     "text": [
      "-15\n",
      "-16\n",
      "-17\n",
      "-18\n",
      "-19\n",
      "-12\n",
      "-13\n",
      "-14\n",
      "-15\n",
      "-16\n",
      "-9\n",
      "-10\n",
      "-11\n",
      "-12\n",
      "-13\n",
      "-6\n",
      "-7\n",
      "-8\n",
      "-9\n",
      "-10\n",
      "-3\n",
      "-4\n",
      "-5\n",
      "-6\n",
      "-7\n"
     ]
    }
   ],
   "source": [
    "for i in range(5):\n",
    "    for j in range(15,20):\n",
    "        print(3*i-j)\n"
   ]
  },
  {
   "cell_type": "code",
   "execution_count": 3,
   "metadata": {},
   "outputs": [
    {
     "name": "stdout",
     "output_type": "stream",
     "text": [
      "0\n"
     ]
    }
   ],
   "source": [
    "a = 1 #10\n",
    "b = 2 #25\n",
    "\n",
    "if a < b:\n",
    "    result = a + b\n",
    "    if result > 30:\n",
    "        result = result + 5\n",
    "    else:\n",
    "        result = result - 3\n",
    "else:\n",
    "    result = a - b\n",
    "    if result < 10:\n",
    "        result = result * 2\n",
    "    else:\n",
    "        result = result // 2\n",
    "print(result)"
   ]
  },
  {
   "cell_type": "markdown",
   "metadata": {},
   "source": [
    "# Listen"
   ]
  },
  {
   "cell_type": "code",
   "execution_count": 8,
   "metadata": {},
   "outputs": [
    {
     "name": "stdout",
     "output_type": "stream",
     "text": [
      "try Block hat einen Fehler geworfen.\n"
     ]
    }
   ],
   "source": [
    "# Bsp. um zu demonstrieren, dass Strings immutabel sind\n",
    "\n",
    "my_string = \"Peter\"\n",
    "try:\n",
    "    # my_string[0] = \"p\"\n",
    "    # (1,2,3)[0] = 11\n",
    "    [1,2,3][0] = 11\n",
    "    print(\"try erfolgreich ausgeführt\")\n",
    "except:\n",
    "    print(\"try Block hat einen Fehler geworfen.\")"
   ]
  },
  {
   "cell_type": "code",
   "execution_count": 14,
   "metadata": {},
   "outputs": [
    {
     "data": {
      "text/plain": [
       "1"
      ]
     },
     "execution_count": 14,
     "metadata": {},
     "output_type": "execute_result"
    }
   ],
   "source": [
    "# Rufe über den Punkt die Vervollständigung für Methoden auf\n",
    "# Suche dir 1-2 Methoden,die du interessant findest und spiele ein wenig damit rum\n",
    "\n",
    "#count = zählt wie oft das gesuchte in der Liste enthalten ist.\n",
    "[1,2,3,1, \"abc\"].count(1)\n",
    "help(list.count)"
   ]
  },
  {
   "cell_type": "code",
   "execution_count": 17,
   "metadata": {},
   "outputs": [
    {
     "name": "stdout",
     "output_type": "stream",
     "text": [
      "ABC\n",
      "['Hallo!', 2, 3]\n"
     ]
    }
   ],
   "source": [
    "# .pop()\n",
    "meine_liste = ['Hallo!',2,3,\"ABC\"]\n",
    "\n",
    "# print(meine_liste.pop(0)) # entfernt 0. Element  (0-indexed)\n",
    "print(meine_liste.pop()) # standardmässig wird das letzte Element entfernt\n",
    "\n",
    "print(meine_liste) \n"
   ]
  },
  {
   "cell_type": "code",
   "execution_count": 28,
   "metadata": {},
   "outputs": [
    {
     "data": {
      "text/plain": [
       "[2, 3, 'ABC']"
      ]
     },
     "execution_count": 28,
     "metadata": {},
     "output_type": "execute_result"
    }
   ],
   "source": [
    "meine_liste = ['ABC',2,3,\"ABC\"]\n",
    "meine_liste.remove('ABC') # entfernt das erste Vorkommen des überreichten Elementes\n",
    "meine_liste"
   ]
  },
  {
   "cell_type": "code",
   "execution_count": 22,
   "metadata": {},
   "outputs": [
    {
     "name": "stdout",
     "output_type": "stream",
     "text": [
      "[]\n"
     ]
    }
   ],
   "source": [
    "list1 = [1,2,3, \"abc\"]\n",
    "list1.clear()\n",
    "\n",
    "print(list1)\n",
    "#Löscht den Inhalt der Liste\n",
    "# Achtung:  list1 = [1,2,3, \"abc\"].clear() überschreibt list1 mit None, dem Rückgabewert von .clear()\n"
   ]
  },
  {
   "cell_type": "code",
   "execution_count": 25,
   "metadata": {},
   "outputs": [
    {
     "name": "stdout",
     "output_type": "stream",
     "text": [
      "[1, 1, 3, 4, 4, 5, 5.5, 8, 9, 9.8]\n",
      "[9.8, 9, 8, 5.5, 5, 4, 4, 3, 1, 1]\n"
     ]
    }
   ],
   "source": [
    "list2 = [1,4,8,9,1,3,4,5,5.5,9.8]\n",
    "list2.sort()\n",
    "print(list2)\n",
    "#Sortiert die Elemente der Liste aufsteigend\n",
    "\n",
    "list2.sort(reverse=True)\n",
    "print(list2)\n",
    "#Sortiert die Elemente der Liste absteigend, falls reverse=True\n",
    "\n"
   ]
  },
  {
   "cell_type": "code",
   "execution_count": 23,
   "metadata": {},
   "outputs": [
    {
     "name": "stdout",
     "output_type": "stream",
     "text": [
      "Help on method_descriptor:\n",
      "\n",
      "clear(self, /)\n",
      "    Remove all items from list.\n",
      "\n"
     ]
    }
   ],
   "source": [
    "help(list.clear)"
   ]
  },
  {
   "cell_type": "code",
   "execution_count": 43,
   "metadata": {},
   "outputs": [
    {
     "name": "stdout",
     "output_type": "stream",
     "text": [
      "['a', 'b', 'c', [1, 2, 3]]\n",
      "True\n",
      "\n",
      "Zweiter Print:\n",
      "['a', 'b', 'c', 1, 2, 3]\n",
      "False\n"
     ]
    }
   ],
   "source": [
    "# .append() vs. .extend()\n",
    "list1 = ['a','b','c']\n",
    "list2 = [1,2,3]\n",
    "\n",
    "list1.append(list2)\n",
    "print(\n",
    "    list1, \n",
    "    list2 in list1,\n",
    "    sep='\\n'\n",
    ")\n",
    "\n",
    "list1 = ['a','b','c'] #reset list1\n",
    "list1.extend(list2)\n",
    "print(\n",
    "    \"\\nZweiter Print:\",\n",
    "    list1, \n",
    "    list2 in list1,\n",
    "    sep='\\n'\n",
    ")"
   ]
  },
  {
   "cell_type": "code",
   "execution_count": 41,
   "metadata": {},
   "outputs": [
    {
     "name": "stdout",
     "output_type": "stream",
     "text": [
      "['a', 'b', 'c', 'ab2222']\n",
      "['a', 'b', 'c', 'a', 'b', '2', '2', '2', '2']\n"
     ]
    }
   ],
   "source": [
    "# interessante Beobachtungen:\n",
    "meine_liste = [\"a\",\"b\",\"c\"]\n",
    "meine_liste.append(\"a\" \"b\" \"2222\")\n",
    "print(meine_liste)\n",
    "\n",
    "meine_liste = [\"a\",\"b\",\"c\"]\n",
    "meine_liste.extend(\"a\" \"b\" \"2222\")\n",
    "print(meine_liste)\n"
   ]
  },
  {
   "cell_type": "markdown",
   "metadata": {},
   "source": [
    "### Aufgabe\n",
    "* Erstelle eine leere Liste.\n",
    "* Füge die Elemente `99, \"Hallo\", (7,4,3), 99` ein.\n",
    "* Gib die Liste aus.\n",
    "* Entferne alle Elemente mit Wert `99`\n",
    "* Gib die Liste _aufsteigend sortiert_ aus.\n",
    "* Bonus: Füge an Position 1 ein Element deiner Wahl ein (finde im Skript die Methode, mit deren Hilfe das möglich ist)"
   ]
  },
  {
   "cell_type": "code",
   "execution_count": 52,
   "metadata": {},
   "outputs": [
    {
     "name": "stdout",
     "output_type": "stream",
     "text": [
      "[99, 'Hallo', 7, 9, 4]\n",
      "None\n",
      "[99, 'Hallo', 7, 9, 4]\n",
      "['Hallo', 7, 9, 4]\n",
      "Die liste kann so nicht sortiert werden.\n",
      "'<' not supported between instances of 'int' and 'str'\n",
      "['Hallo', 'Chuck_Norris', 7, 9, 4]\n"
     ]
    }
   ],
   "source": [
    "# Leere Liste & Elemente einfügen\n",
    "gedoens = []\n",
    "gedoens.append(99)\n",
    "gedoens.append(\"Hallo\")\n",
    "\n",
    "input(\"Extend mit neue_liste\")\n",
    "neue_liste = [7,9,4]\n",
    "print(\n",
    "    gedoens + neue_liste,\n",
    "    gedoens.extend(neue_liste),\n",
    "    gedoens,\n",
    "    sep=\"\\n\"\n",
    ")\n",
    "\n",
    "input(\"Alle 99 entfernen\")\n",
    "while 99 in gedoens:\n",
    "    gedoens.remove(99)\n",
    "print(gedoens)\n",
    "\n",
    "\n",
    "input(\"Aufsteigend sortiert ausgeben\")\n",
    "try:\n",
    "    gedoens.sort()\n",
    "except Exception as my_exception:\n",
    "    print(\n",
    "        \"Die liste kann so nicht sortiert werden.\",\n",
    "        my_exception,\n",
    "        sep=\"\\n\"\n",
    "    )\n",
    "\n",
    "input(\"An Pos. 1 ein Element deiner Wahl einfügen\")\n",
    "gedoens.insert(1, \"Chuck_Norris\")\n",
    "print (gedoens)\n",
    "\n",
    "# Das mit den Inputs ist etwas hacky hier..."
   ]
  },
  {
   "cell_type": "markdown",
   "metadata": {},
   "source": [
    "### Aufgaben wiki"
   ]
  },
  {
   "cell_type": "code",
   "execution_count": 77,
   "metadata": {},
   "outputs": [
    {
     "name": "stdout",
     "output_type": "stream",
     "text": [
      "Zahl an Position 3: 5\n",
      "Die Liste enthält 5 Elemente.\n",
      "zahlen = [1, 2, 4, 5, 6]\n",
      "zahlen_neu = [1, 2, 4]\n",
      "1\n",
      "[6, 5, 4, 2, 1]\n",
      "[6, 5, 4, 2, 1]\n",
      "[6, 5, 4, 2, 1]\n",
      "[[6, 5, 4, 2, 1], ['a', 'b', 'c']]\n"
     ]
    },
    {
     "data": {
      "text/plain": [
       "'b'"
      ]
     },
     "execution_count": 77,
     "metadata": {},
     "output_type": "execute_result"
    }
   ],
   "source": [
    "# 1.\n",
    "zahlen = list(range(1,6))\n",
    "# zahlen = [3,1,1,1,1]\n",
    "# 2.\n",
    "zahlen.append(6)\n",
    "# 3.\n",
    "zahlen.remove(3)\n",
    "# zahlen.pop(zahlen.index(3)) \n",
    "\n",
    "# 4. Zugriff\n",
    "print(f\"Zahl an Position 3: {zahlen[3]}\") #oder zahlen[2]\n",
    "# 5.\n",
    "print(f\"Die Liste enthält {len(zahlen)} Elemente.\")\n",
    "# 6.\n",
    "zahlen_neu = zahlen[:3]\n",
    "print(\n",
    "    f\"zahlen = {zahlen}\",\n",
    "    f\"zahlen_neu = {zahlen_neu}\",\n",
    "    sep='\\n'\n",
    ")\n",
    "# 7.\n",
    "print(zahlen.count(1))\n",
    "# 8.\n",
    "print(zahlen[::-1]) #zahlen bleibt unverändert\n",
    "zahlen.reverse() #zahlen ist verändert\n",
    "print(zahlen)\n",
    "# 9.\n",
    "zahlen.sort(reverse=True)\n",
    "print(zahlen)\n",
    "# 10.\n",
    "\n",
    "verschachtelt = [zahlen,  ['a','b','c'] ]\n",
    "print(verschachtelt)\n",
    "# Bonus: aus verschachtelt 'b' auslesen/extrahieren\n",
    "verschachtelt[1][1]\n"
   ]
  },
  {
   "cell_type": "markdown",
   "metadata": {},
   "source": [
    "# Tupel\n",
    "Tupel = immutable Listen"
   ]
  },
  {
   "cell_type": "code",
   "execution_count": 2,
   "metadata": {},
   "outputs": [
    {
     "name": "stdout",
     "output_type": "stream",
     "text": [
      "Kowalski\n",
      "50\n"
     ]
    }
   ],
   "source": [
    "# Bsp. für Mehrfachzuweisung\n",
    "name, alter = \"Kowalski\", 50\n",
    "print(name)\n",
    "print(alter)\n",
    "#kein guter Stil... "
   ]
  },
  {
   "cell_type": "code",
   "execution_count": 9,
   "metadata": {},
   "outputs": [
    {
     "name": "stdout",
     "output_type": "stream",
     "text": [
      "('Lisa', 30, 1.68)\n",
      "<class 'tuple'>\n"
     ]
    },
    {
     "ename": "TypeError",
     "evalue": "can only concatenate str (not \"int\") to str",
     "output_type": "error",
     "traceback": [
      "\u001b[1;31m---------------------------------------------------------------------------\u001b[0m",
      "\u001b[1;31mTypeError\u001b[0m                                 Traceback (most recent call last)",
      "\u001b[1;32mc:\\Users\\David\\Desktop\\F73_Python\\_git\\KW05\\Gruppe01.ipynb Cell 20\u001b[0m line \u001b[0;36m8\n\u001b[0;32m      <a href='vscode-notebook-cell:/c%3A/Users/David/Desktop/F73_Python/_git/KW05/Gruppe01.ipynb#X24sZmlsZQ%3D%3D?line=0'>1</a>\u001b[0m my_tuple \u001b[39m=\u001b[39m \u001b[39m\"\u001b[39m\u001b[39mLisa\u001b[39m\u001b[39m\"\u001b[39m, \u001b[39m30\u001b[39m, \u001b[39m1.68\u001b[39m  \u001b[39m# Rechts wird als Tupel interpretiert\u001b[39;00m\n\u001b[0;32m      <a href='vscode-notebook-cell:/c%3A/Users/David/Desktop/F73_Python/_git/KW05/Gruppe01.ipynb#X24sZmlsZQ%3D%3D?line=1'>2</a>\u001b[0m \u001b[39mprint\u001b[39m(\n\u001b[0;32m      <a href='vscode-notebook-cell:/c%3A/Users/David/Desktop/F73_Python/_git/KW05/Gruppe01.ipynb#X24sZmlsZQ%3D%3D?line=2'>3</a>\u001b[0m     my_tuple,\n\u001b[0;32m      <a href='vscode-notebook-cell:/c%3A/Users/David/Desktop/F73_Python/_git/KW05/Gruppe01.ipynb#X24sZmlsZQ%3D%3D?line=3'>4</a>\u001b[0m     \u001b[39mtype\u001b[39m(my_tuple),\n\u001b[0;32m      <a href='vscode-notebook-cell:/c%3A/Users/David/Desktop/F73_Python/_git/KW05/Gruppe01.ipynb#X24sZmlsZQ%3D%3D?line=4'>5</a>\u001b[0m     sep\u001b[39m=\u001b[39m\u001b[39m'\u001b[39m\u001b[39m\\n\u001b[39;00m\u001b[39m'\u001b[39m\n\u001b[0;32m      <a href='vscode-notebook-cell:/c%3A/Users/David/Desktop/F73_Python/_git/KW05/Gruppe01.ipynb#X24sZmlsZQ%3D%3D?line=5'>6</a>\u001b[0m )\n\u001b[1;32m----> <a href='vscode-notebook-cell:/c%3A/Users/David/Desktop/F73_Python/_git/KW05/Gruppe01.ipynb#X24sZmlsZQ%3D%3D?line=7'>8</a>\u001b[0m \u001b[39m'\u001b[39;49m\u001b[39ma\u001b[39;49m\u001b[39m'\u001b[39;49m\u001b[39m+\u001b[39;49m\u001b[39m2\u001b[39;49m\n",
      "\u001b[1;31mTypeError\u001b[0m: can only concatenate str (not \"int\") to str"
     ]
    }
   ],
   "source": [
    "my_tuple = \"Lisa\", 30, 1.68  # Rechts wird als Tupel interpretiert\n",
    "print(\n",
    "    my_tuple,\n",
    "    type(my_tuple),\n",
    "    sep='\\n'\n",
    ")\n"
   ]
  },
  {
   "cell_type": "markdown",
   "metadata": {},
   "source": [
    "* Tupel werden bei jedem Funktionsaufruf verwendet!\n",
    "* Wir als Nutzer verwenden häufiger Listen als Tupel"
   ]
  },
  {
   "cell_type": "code",
   "execution_count": 26,
   "metadata": {},
   "outputs": [
    {
     "name": "stdout",
     "output_type": "stream",
     "text": [
      "<class 'tuple'>\n",
      "a\n",
      "b\n",
      "55\n"
     ]
    }
   ],
   "source": [
    "def my_function(*args): #Vorgriff: *args = entpacktes Tupel mit Namen args\n",
    "    print(type(args))\n",
    "    for x in args:\n",
    "        print(x)\n",
    "\n",
    "my_function('a','b',55)"
   ]
  },
  {
   "cell_type": "markdown",
   "metadata": {},
   "source": [
    "### Aufgaben wiki:"
   ]
  },
  {
   "cell_type": "code",
   "execution_count": 12,
   "metadata": {},
   "outputs": [
    {
     "name": "stdout",
     "output_type": "stream",
     "text": [
      "Hagen\n",
      "'tuple' object does not support item assignment\n",
      "Aufgabe 4: True\n",
      "fruits = ('Apfel', 'Hagen', 'Birne', 'Basti', 'PAscal', 'Apfel')\n",
      "Anzahl Bananen = 0\n",
      "Anzahl Äpfel = 2\n",
      "('Apfel', 'Hagen', 'Birne', 'Basti', 'PAscal', 'Apfel', 'Tomate', 'Zwiebel', 'steak')\n",
      "('Tomate', 'Zwiebel', 'steak', 'Tomate', 'Zwiebel', 'steak', 'Tomate', 'Zwiebel', 'steak')\n",
      "(('Apfel', 'Hagen', 'Birne', 'Basti', 'PAscal', 'Apfel'), ('Tomate', 'Zwiebel', 'steak'))\n",
      "steak\n",
      "2\n",
      "2\n",
      "2\n"
     ]
    },
    {
     "data": {
      "text/plain": [
       "15"
      ]
     },
     "execution_count": 12,
     "metadata": {},
     "output_type": "execute_result"
    }
   ],
   "source": [
    "#1. Tupel erstellen\n",
    "fruits = (\"Apfel\", \"Hagen\", \"Birne\", \"Basti\", \"PAscal\", \"Apfel\")\n",
    "#2. \n",
    "print(fruits[1])\n",
    "#3.\n",
    "try:\n",
    "    fruits[1] = \"Erdbeere\"\n",
    "except Exception as e:\n",
    "    print(e)\n",
    "#4.\n",
    "print(f\"Aufgabe 4: {'Basti' in fruits}\")\n",
    "#gutes Bsp. für die Verwendung der beiden Arten von Anführungszeichen\n",
    "\n",
    "#5.\n",
    "print(\n",
    "    f\"fruits = {fruits}\",\n",
    "    f\"Anzahl Bananen = {fruits.count('Banane')}\",\n",
    "    f\"Anzahl Äpfel = {fruits.count('Apfel')}\",\n",
    "    sep='\\n'\n",
    ")\n",
    "\n",
    "#6.\n",
    "fruits_reversed = fruits[::-1]\n",
    "fruits_reversed\n",
    "#7.\n",
    "boring = fruits[:3]\n",
    "#8.\n",
    "veggies =  ('Tomate', 'Zwiebel', 'steak')\n",
    "tuple_new = fruits + veggies\n",
    "print(tuple_new)\n",
    "\n",
    "#9.\n",
    "tuple_new2 = 3*veggies\n",
    "print(tuple_new2)\n",
    "\n",
    "#10.\n",
    "tuple_new = (fruits, veggies)\n",
    "print(tuple_new)\n",
    "#das letzte Element des letzten Tupels\n",
    "print(tuple_new[-1][-1])\n",
    "\n",
    "#11.\n",
    "# Aufgabe: Erzeuge das Ergebnis von\n",
    "print(fruits.index('Birne'))\n",
    "#auf umständliche Art mit Hilfe eines for-Loops:\n",
    "\n",
    "#Umständlich 1:\n",
    "for pos in range(len(fruits)):\n",
    "    if fruits[pos] == \"Birne\":\n",
    "        print(pos)\n",
    "        break \n",
    "\n",
    "# Umständlich 2:\n",
    "c = 0\n",
    "for fruit in fruits:\n",
    "    if fruit=='Birne':\n",
    "        print(c)\n",
    "    c+=1\n",
    "\n",
    "#12.\n",
    "my_zahl_tuple = tuple(range(1,6))\n",
    "sum(my_zahl_tuple)\n",
    "\n",
    "#13.\n",
    "print(sorted(my_zahl_tuple, reverse=True)) #sorted() Funktion ist der Bruda von .sort() Methode\n"
   ]
  },
  {
   "cell_type": "markdown",
   "metadata": {},
   "source": [
    "__Aufgabe__\n",
    "\n",
    "Gegeben sei folgendes Tupel:\n",
    "```python\n",
    "zahlen = (1,7,-12,99,5,-3,-4,5.5,0)\n",
    "```\n",
    "\n",
    "Baue eine Schleife, die \n",
    "* in jedem Durchlauf das max-Element rauspoppt (ggf. tupel in Liste umwandeln) \n",
    "* dieses max-Element in eine neue Liste namens `result_list` einfügt\n",
    "* Gebe `result_list` am Ende aus.\n",
    "* Gebe eine Implementierung sowohl für auf- als auch absteigende Sortierung an.\n"
   ]
  },
  {
   "cell_type": "code",
   "execution_count": null,
   "metadata": {},
   "outputs": [],
   "source": []
  },
  {
   "cell_type": "code",
   "execution_count": 13,
   "metadata": {},
   "outputs": [
    {
     "name": "stdout",
     "output_type": "stream",
     "text": [
      "first\n",
      "['second', 'XXXX', 'third', 'forth']\n",
      "affe\n",
      "<class 'str'>\n",
      "<class 'list'>\n",
      "<class 'str'>\n"
     ]
    }
   ],
   "source": [
    "#16\n",
    "a, *b, c = ('first', 'second', 'XXXX','third', 'forth', 'affe')\n",
    "print(a)\n",
    "print(b)\n",
    "print(c)\n",
    "print(type(a))\n",
    "print(type(b))\n",
    "print(type(c))"
   ]
  }
 ],
 "metadata": {
  "kernelspec": {
   "display_name": "Python 3",
   "language": "python",
   "name": "python3"
  },
  "language_info": {
   "codemirror_mode": {
    "name": "ipython",
    "version": 3
   },
   "file_extension": ".py",
   "mimetype": "text/x-python",
   "name": "python",
   "nbconvert_exporter": "python",
   "pygments_lexer": "ipython3",
   "version": "3.11.7"
  }
 },
 "nbformat": 4,
 "nbformat_minor": 2
}
