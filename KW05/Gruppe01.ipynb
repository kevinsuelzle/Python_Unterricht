{
 "cells": [
  {
   "cell_type": "markdown",
   "metadata": {},
   "source": [
    "# KW 05\n",
    "# Der Debugger\n",
    "\n",
    "wichtigste Anwendung: Schleifen Debuggen"
   ]
  },
  {
   "cell_type": "code",
   "execution_count": 1,
   "metadata": {},
   "outputs": [
    {
     "name": "stdout",
     "output_type": "stream",
     "text": [
      "-15\n",
      "-16\n",
      "-17\n",
      "-18\n",
      "-19\n",
      "-12\n",
      "-13\n",
      "-14\n",
      "-15\n",
      "-16\n",
      "-9\n",
      "-10\n",
      "-11\n",
      "-12\n",
      "-13\n",
      "-6\n",
      "-7\n",
      "-8\n",
      "-9\n",
      "-10\n",
      "-3\n",
      "-4\n",
      "-5\n",
      "-6\n",
      "-7\n"
     ]
    }
   ],
   "source": [
    "for i in range(5):\n",
    "    for j in range(15,20):\n",
    "        print(3*i-j)\n"
   ]
  },
  {
   "cell_type": "code",
   "execution_count": 3,
   "metadata": {},
   "outputs": [
    {
     "name": "stdout",
     "output_type": "stream",
     "text": [
      "0\n"
     ]
    }
   ],
   "source": [
    "a = 1 #10\n",
    "b = 2 #25\n",
    "\n",
    "if a < b:\n",
    "    result = a + b\n",
    "    if result > 30:\n",
    "        result = result + 5\n",
    "    else:\n",
    "        result = result - 3\n",
    "else:\n",
    "    result = a - b\n",
    "    if result < 10:\n",
    "        result = result * 2\n",
    "    else:\n",
    "        result = result // 2\n",
    "print(result)"
   ]
  },
  {
   "cell_type": "markdown",
   "metadata": {},
   "source": [
    "# Listen"
   ]
  },
  {
   "cell_type": "code",
   "execution_count": 8,
   "metadata": {},
   "outputs": [
    {
     "name": "stdout",
     "output_type": "stream",
     "text": [
      "try Block hat einen Fehler geworfen.\n"
     ]
    }
   ],
   "source": [
    "# Bsp. um zu demonstrieren, dass Strings immutabel sind\n",
    "\n",
    "my_string = \"Peter\"\n",
    "try:\n",
    "    # my_string[0] = \"p\"\n",
    "    # (1,2,3)[0] = 11\n",
    "    [1,2,3][0] = 11\n",
    "    print(\"try erfolgreich ausgeführt\")\n",
    "except:\n",
    "    print(\"try Block hat einen Fehler geworfen.\")"
   ]
  },
  {
   "cell_type": "code",
   "execution_count": 14,
   "metadata": {},
   "outputs": [
    {
     "data": {
      "text/plain": [
       "1"
      ]
     },
     "execution_count": 14,
     "metadata": {},
     "output_type": "execute_result"
    }
   ],
   "source": [
    "# Rufe über den Punkt die Vervollständigung für Methoden auf\n",
    "# Suche dir 1-2 Methoden,die du interessant findest und spiele ein wenig damit rum\n",
    "\n",
    " \n",
    "#count = zählt wie oft das gesuchte in der Liste enthalten ist.\n",
    "[1,2,3,1, \"abc\"].count(1)\n",
    "help(list.count)"
   ]
  },
  {
   "cell_type": "code",
   "execution_count": 17,
   "metadata": {},
   "outputs": [
    {
     "name": "stdout",
     "output_type": "stream",
     "text": [
      "ABC\n",
      "['Hallo!', 2, 3]\n"
     ]
    }
   ],
   "source": [
    "# .pop()\n",
    "meine_liste = ['Hallo!',2,3,\"ABC\"]\n",
    "\n",
    "# print(meine_liste.pop(0)) # entfernt 0. Element  (0-indexed)\n",
    "print(meine_liste.pop()) # standardmässig wird das letzte Element entfernt\n",
    "\n",
    "print(meine_liste) \n"
   ]
  },
  {
   "cell_type": "code",
   "execution_count": 22,
   "metadata": {},
   "outputs": [
    {
     "name": "stdout",
     "output_type": "stream",
     "text": [
      "[]\n"
     ]
    }
   ],
   "source": [
    "list1 = [1,2,3, \"abc\"]\n",
    "list1.clear()\n",
    "\n",
    "print(list1)\n",
    "#Löscht den Inhalt der Liste\n",
    "# Achtung:  list1 = [1,2,3, \"abc\"].clear() überschreibt list1 mit None, dem Rückgabewert von .clear()\n"
   ]
  },
  {
   "cell_type": "code",
   "execution_count": 25,
   "metadata": {},
   "outputs": [
    {
     "name": "stdout",
     "output_type": "stream",
     "text": [
      "[1, 1, 3, 4, 4, 5, 5.5, 8, 9, 9.8]\n",
      "[9.8, 9, 8, 5.5, 5, 4, 4, 3, 1, 1]\n"
     ]
    }
   ],
   "source": [
    "list2 = [1,4,8,9,1,3,4,5,5.5,9.8]\n",
    "list2.sort()\n",
    "print(list2)\n",
    "#Sortiert die Elemente der Liste aufsteigend\n",
    "\n",
    "list2.sort(reverse=True)\n",
    "print(list2)\n",
    "#Sortiert die Elemente der Liste absteigend, falls reverse=True\n",
    "\n"
   ]
  },
  {
   "cell_type": "code",
   "execution_count": 23,
   "metadata": {},
   "outputs": [
    {
     "name": "stdout",
     "output_type": "stream",
     "text": [
      "Help on method_descriptor:\n",
      "\n",
      "clear(self, /)\n",
      "    Remove all items from list.\n",
      "\n"
     ]
    }
   ],
   "source": [
    "help(list.clear)"
   ]
  }
 ],
 "metadata": {
  "kernelspec": {
   "display_name": "Python 3",
   "language": "python",
   "name": "python3"
  },
  "language_info": {
   "codemirror_mode": {
    "name": "ipython",
    "version": 3
   },
   "file_extension": ".py",
   "mimetype": "text/x-python",
   "name": "python",
   "nbconvert_exporter": "python",
   "pygments_lexer": "ipython3",
   "version": "3.11.7"
  }
 },
 "nbformat": 4,
 "nbformat_minor": 2
}
